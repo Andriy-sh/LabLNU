{
 "cells": [
  {
   "cell_type": "markdown",
   "metadata": {},
   "source": [
    "Мета\n",
    "Ознайомитись зі структурою файлів csv та зчитати їх у DataFrame за допомогою бібліотеки\n",
    "pandas\n",
    "Використати методи pandas для роботи з DataFrame"
   ]
  },
  {
   "cell_type": "code",
   "execution_count": 118,
   "metadata": {},
   "outputs": [],
   "source": [
    "import pandas as pd"
   ]
  },
  {
   "cell_type": "code",
   "execution_count": null,
   "metadata": {},
   "outputs": [
    {
     "name": "stdout",
     "output_type": "stream",
     "text": [
      "Store\n",
      "1        662358\n",
      "2        384996\n",
      "3        594242\n",
      "4       1355202\n",
      "5        278600\n",
      "         ...   \n",
      "1111     440689\n",
      "1112    1151380\n",
      "1113     789739\n",
      "1114    2939357\n",
      "1115     907634\n",
      "Name: Sales, Length: 1115, dtype: int64\n",
      "Doors\n",
      "4    910\n",
      "5    180\n",
      "Name: Horsepower, dtype: int64\n"
     ]
    },
    {
     "name": "stderr",
     "output_type": "stream",
     "text": [
      "C:\\Users\\andri\\AppData\\Local\\Temp\\ipykernel_29984\\3574431635.py:3: DtypeWarning: Columns (7) have mixed types. Specify dtype option on import or set low_memory=False.\n",
      "  df = pd.read_csv(train)\n"
     ]
    }
   ],
   "source": [
    "train = (\"train.csv\")\n",
    "df = pd.read_csv(train)\n",
    "ress = df[df['DayOfWeek'] >= 6].groupby(\"Store\")[\"Sales\"].sum()\n",
    "print(ress)\n",
    "car_df = 'cars_data.csv'                                                           \n",
    "df_cars = pd.read_csv(car_df)\n",
    "res = df_cars[df_cars['Year'] >= 2020].groupby('Doors')[\"Horsepower\"].sum()\n",
    "print(res)"
   ]
  },
  {
   "cell_type": "code",
   "execution_count": 120,
   "metadata": {},
   "outputs": [
    {
     "name": "stdout",
     "output_type": "stream",
     "text": [
      "      Brand    Model  Year  Price  Mileage Fuel Type  Horsepower  Doors\n",
      "0    Toyota  Corolla  2020  20000    30000    Petrol         130      4\n",
      "1     Honda    Civic  2019  22000    25000    Petrol         150      4\n",
      "2      Ford    Focus  2021  19000    40000    Diesel         120      4\n",
      "3       BMW       X5  2018  50000    50000    Diesel         300      5\n",
      "4  Mercedes  E-Class  2022  55000    20000    Petrol         350      4\n"
     ]
    }
   ],
   "source": [
    "print(df_cars.head())"
   ]
  },
  {
   "cell_type": "code",
   "execution_count": 121,
   "metadata": {},
   "outputs": [
    {
     "name": "stdout",
     "output_type": "stream",
     "text": [
      "       Brand     Model  Year  Price  Mileage Fuel Type  Horsepower  Doors\n",
      "5       Audi        A4  2020  40000    30000    Petrol         200      4\n",
      "6  Chevrolet    Malibu  2017  25000    45000    Hybrid         160      4\n",
      "7     Nissan    Altima  2019  23000    28000    Diesel         140      4\n",
      "8    Hyundai   Elantra  2021  21000    35000    Petrol         110      4\n",
      "9        Kia  Sportage  2020  27000    32000    Hybrid         180      5\n"
     ]
    }
   ],
   "source": [
    "print(df_cars.tail())"
   ]
  },
  {
   "cell_type": "code",
   "execution_count": 122,
   "metadata": {},
   "outputs": [
    {
     "name": "stdout",
     "output_type": "stream",
     "text": [
      "    Brand    Model  Year  Price  Mileage Fuel Type  Horsepower  Doors\n",
      "5    Audi       A4  2020  40000    30000    Petrol         200      4\n",
      "0  Toyota  Corolla  2020  20000    30000    Petrol         130      4\n",
      "2    Ford    Focus  2021  19000    40000    Diesel         120      4\n",
      "1   Honda    Civic  2019  22000    25000    Petrol         150      4\n"
     ]
    }
   ],
   "source": [
    "print(df_cars.sample(4))"
   ]
  },
  {
   "cell_type": "code",
   "execution_count": 123,
   "metadata": {},
   "outputs": [
    {
     "name": "stdout",
     "output_type": "stream",
     "text": [
      "(10, 8)\n"
     ]
    }
   ],
   "source": [
    "print(df_cars.shape)"
   ]
  },
  {
   "cell_type": "code",
   "execution_count": 124,
   "metadata": {},
   "outputs": [
    {
     "name": "stdout",
     "output_type": "stream",
     "text": [
      "Index(['Brand', 'Model', 'Year', 'Price', 'Mileage', 'Fuel Type', 'Horsepower',\n",
      "       'Doors'],\n",
      "      dtype='object')\n"
     ]
    }
   ],
   "source": [
    "print(df_cars.columns)"
   ]
  },
  {
   "cell_type": "code",
   "execution_count": 125,
   "metadata": {},
   "outputs": [
    {
     "name": "stdout",
     "output_type": "stream",
     "text": [
      "RangeIndex(start=0, stop=10, step=1)\n"
     ]
    }
   ],
   "source": [
    "print(df_cars.index)"
   ]
  },
  {
   "cell_type": "code",
   "execution_count": 126,
   "metadata": {},
   "outputs": [
    {
     "name": "stdout",
     "output_type": "stream",
     "text": [
      "Brand         object\n",
      "Model         object\n",
      "Year           int64\n",
      "Price          int64\n",
      "Mileage        int64\n",
      "Fuel Type     object\n",
      "Horsepower     int64\n",
      "Doors          int64\n",
      "dtype: object\n"
     ]
    }
   ],
   "source": [
    "print(df_cars.dtypes)"
   ]
  },
  {
   "cell_type": "code",
   "execution_count": 127,
   "metadata": {},
   "outputs": [
    {
     "name": "stdout",
     "output_type": "stream",
     "text": [
      "<class 'pandas.core.frame.DataFrame'>\n",
      "RangeIndex: 10 entries, 0 to 9\n",
      "Data columns (total 8 columns):\n",
      " #   Column      Non-Null Count  Dtype \n",
      "---  ------      --------------  ----- \n",
      " 0   Brand       10 non-null     object\n",
      " 1   Model       10 non-null     object\n",
      " 2   Year        10 non-null     int64 \n",
      " 3   Price       10 non-null     int64 \n",
      " 4   Mileage     10 non-null     int64 \n",
      " 5   Fuel Type   10 non-null     object\n",
      " 6   Horsepower  10 non-null     int64 \n",
      " 7   Doors       10 non-null     int64 \n",
      "dtypes: int64(5), object(3)\n",
      "memory usage: 772.0+ bytes\n",
      "None\n"
     ]
    }
   ],
   "source": [
    "print(df_cars.info())"
   ]
  },
  {
   "cell_type": "code",
   "execution_count": 128,
   "metadata": {},
   "outputs": [
    {
     "name": "stdout",
     "output_type": "stream",
     "text": [
      "       Brand     Model  Year  Price  Mileage Fuel Type  Horsepower  Doors  Sum\n",
      "0     Toyota   Corolla  2020  20000    30000    Petrol         130      4  134\n",
      "1      Honda     Civic  2019  22000    25000    Petrol         150      4  154\n",
      "2       Ford     Focus  2021  19000    40000    Diesel         120      4  124\n",
      "3        BMW        X5  2018  50000    50000    Diesel         300      5  305\n",
      "4   Mercedes   E-Class  2022  55000    20000    Petrol         350      4  354\n",
      "5       Audi        A4  2020  40000    30000    Petrol         200      4  204\n",
      "6  Chevrolet    Malibu  2017  25000    45000    Hybrid         160      4  164\n",
      "7     Nissan    Altima  2019  23000    28000    Diesel         140      4  144\n",
      "8    Hyundai   Elantra  2021  21000    35000    Petrol         110      4  114\n",
      "9        Kia  Sportage  2020  27000    32000    Hybrid         180      5  185\n"
     ]
    }
   ],
   "source": [
    "df_cars[\"Sum\"] = df_cars[\"Horsepower\"] + df_cars[\"Doors\"]\n",
    "print(df_cars)"
   ]
  },
  {
   "cell_type": "code",
   "execution_count": null,
   "metadata": {},
   "outputs": [
    {
     "name": "stdout",
     "output_type": "stream",
     "text": [
      "    Brand    Model  Price\n",
      "0  Toyota  Corolla  20000\n",
      "1   Honda    Civic  22000\n",
      "2    Ford    Focus  19000\n",
      "3     BMW       X5  50000\n"
     ]
    }
   ],
   "source": [
    "df_cars[['Brand', 'Model', 'Price']]\n",
    "df_cars.iloc[0:3]\n",
    "\n",
    "print(df_cars.loc[0:3,['Brand', 'Model', 'Price']])"
   ]
  },
  {
   "cell_type": "code",
   "execution_count": 130,
   "metadata": {},
   "outputs": [
    {
     "name": "stdout",
     "output_type": "stream",
     "text": [
      "       Brand     Model  Year  Price Fuel Type  Horsepower  Doors  Sum\n",
      "0     Toyota   Corolla  2020  20000    Petrol         130      4  134\n",
      "1      Honda     Civic  2019  22000    Petrol         150      4  154\n",
      "2       Ford     Focus  2021  19000    Diesel         120      4  124\n",
      "3        BMW        X5  2018  50000    Diesel         300      5  305\n",
      "4   Mercedes   E-Class  2022  55000    Petrol         350      4  354\n",
      "5       Audi        A4  2020  40000    Petrol         200      4  204\n",
      "6  Chevrolet    Malibu  2017  25000    Hybrid         160      4  164\n",
      "7     Nissan    Altima  2019  23000    Diesel         140      4  144\n",
      "9        Kia  Sportage  2020  27000    Hybrid         180      5  185\n"
     ]
    }
   ],
   "source": [
    "df_cars.drop('Mileage', axis=1, inplace=True)  \n",
    "df_cars.drop(8, axis=0, inplace=True)  \n",
    "print(df_cars)"
   ]
  },
  {
   "cell_type": "code",
   "execution_count": 131,
   "metadata": {},
   "outputs": [
    {
     "name": "stdout",
     "output_type": "stream",
     "text": [
      "  Brand Model  Year  Price Fuel Type  Horsepower  Doors  Sum\n",
      "3   BMW    X5  2018  50000    Diesel         300      5  305\n"
     ]
    }
   ],
   "source": [
    "df_cars_by_price = df_cars[(df_cars['Price'] > 30000) & (df_cars[\"Fuel Type\"] == 'Diesel')]\n",
    "print(df_cars_by_price)"
   ]
  },
  {
   "cell_type": "code",
   "execution_count": 132,
   "metadata": {},
   "outputs": [
    {
     "name": "stdout",
     "output_type": "stream",
     "text": [
      "              Model  Year  Price Fuel Type  Horsepower  Doors  Sum\n",
      "Brand                                                             \n",
      "Toyota      Corolla  2020  20000    Petrol         130      4  134\n",
      "Honda         Civic  2019  22000    Petrol         150      4  154\n",
      "Ford          Focus  2021  19000    Diesel         120      4  124\n",
      "BMW              X5  2018  50000    Diesel         300      5  305\n",
      "Mercedes    E-Class  2022  55000    Petrol         350      4  354\n",
      "Audi             A4  2020  40000    Petrol         200      4  204\n",
      "Chevrolet    Malibu  2017  25000    Hybrid         160      4  164\n",
      "Nissan       Altima  2019  23000    Diesel         140      4  144\n",
      "Kia        Sportage  2020  27000    Hybrid         180      5  185\n"
     ]
    }
   ],
   "source": [
    "df_cars.set_index('Brand', inplace=True)\n",
    "print(df_cars)"
   ]
  },
  {
   "cell_type": "code",
   "execution_count": 133,
   "metadata": {},
   "outputs": [
    {
     "name": "stdout",
     "output_type": "stream",
     "text": [
      "       Brand     Model  Year  Price Fuel Type  Horsepower  Doors  Sum\n",
      "0     Toyota   Corolla  2020  20000    Petrol         130      4  134\n",
      "1      Honda     Civic  2019  22000    Petrol         150      4  154\n",
      "2       Ford     Focus  2021  19000    Diesel         120      4  124\n",
      "3        BMW        X5  2018  50000    Diesel         300      5  305\n",
      "4   Mercedes   E-Class  2022  55000    Petrol         350      4  354\n",
      "5       Audi        A4  2020  40000    Petrol         200      4  204\n",
      "6  Chevrolet    Malibu  2017  25000    Hybrid         160      4  164\n",
      "7     Nissan    Altima  2019  23000    Diesel         140      4  144\n",
      "8        Kia  Sportage  2020  27000    Hybrid         180      5  185\n"
     ]
    }
   ],
   "source": [
    "df_cars.reset_index(inplace=True)\n",
    "print(df_cars)"
   ]
  },
  {
   "cell_type": "code",
   "execution_count": 134,
   "metadata": {},
   "outputs": [
    {
     "data": {
      "text/plain": [
       "Doors\n",
       "4    7\n",
       "5    2\n",
       "Name: count, dtype: int64"
      ]
     },
     "execution_count": 134,
     "metadata": {},
     "output_type": "execute_result"
    }
   ],
   "source": [
    "df_cars[\"Doors\"].value_counts()"
   ]
  },
  {
   "cell_type": "code",
   "execution_count": 135,
   "metadata": {},
   "outputs": [
    {
     "data": {
      "text/plain": [
       "array([4, 5])"
      ]
     },
     "execution_count": 135,
     "metadata": {},
     "output_type": "execute_result"
    }
   ],
   "source": [
    "df_cars[\"Doors\"].unique()"
   ]
  },
  {
   "cell_type": "code",
   "execution_count": 136,
   "metadata": {},
   "outputs": [
    {
     "data": {
      "text/plain": [
       "np.int64(38)"
      ]
     },
     "execution_count": 136,
     "metadata": {},
     "output_type": "execute_result"
    }
   ],
   "source": [
    "df_cars[\"Doors\"].sum()"
   ]
  },
  {
   "cell_type": "code",
   "execution_count": 137,
   "metadata": {},
   "outputs": [
    {
     "data": {
      "text/plain": [
       "np.float64(4.222222222222222)"
      ]
     },
     "execution_count": 137,
     "metadata": {},
     "output_type": "execute_result"
    }
   ],
   "source": [
    "df_cars[\"Doors\"].mean()"
   ]
  },
  {
   "cell_type": "code",
   "execution_count": 138,
   "metadata": {},
   "outputs": [
    {
     "name": "stdout",
     "output_type": "stream",
     "text": [
      "       Brand     Model  Year  Price Fuel Type  Horsepower  Doors  Sum\n",
      "0     Toyota   Corolla  2020  20000    Petrol       195.0      4  134\n",
      "1      Honda     Civic  2019  22000    Petrol       225.0      4  154\n",
      "2       Ford     Focus  2021  19000    Diesel       180.0      4  124\n",
      "3        BMW        X5  2018  50000    Diesel       450.0      5  305\n",
      "4   Mercedes   E-Class  2022  55000    Petrol       525.0      4  354\n",
      "5       Audi        A4  2020  40000    Petrol       300.0      4  204\n",
      "6  Chevrolet    Malibu  2017  25000    Hybrid       240.0      4  164\n",
      "7     Nissan    Altima  2019  23000    Diesel       210.0      4  144\n",
      "8        Kia  Sportage  2020  27000    Hybrid       270.0      5  185\n"
     ]
    }
   ],
   "source": [
    "df_cars['Horsepower'] = df_cars['Horsepower'].map(lambda x: x * 1.5)\n",
    "print(df_cars)"
   ]
  },
  {
   "cell_type": "code",
   "execution_count": 139,
   "metadata": {},
   "outputs": [
    {
     "name": "stdout",
     "output_type": "stream",
     "text": [
      "       Brand     Model  Year  Price Fuel Type  Horsepower  Doors  Sum\n",
      "4   Mercedes   E-Class  2022  55000    Petrol       525.0      4  354\n",
      "3        BMW        X5  2018  50000    Diesel       450.0      5  305\n",
      "5       Audi        A4  2020  40000    Petrol       300.0      4  204\n",
      "8        Kia  Sportage  2020  27000    Hybrid       270.0      5  185\n",
      "6  Chevrolet    Malibu  2017  25000    Hybrid       240.0      4  164\n",
      "7     Nissan    Altima  2019  23000    Diesel       210.0      4  144\n",
      "1      Honda     Civic  2019  22000    Petrol       225.0      4  154\n",
      "0     Toyota   Corolla  2020  20000    Petrol       195.0      4  134\n",
      "2       Ford     Focus  2021  19000    Diesel       180.0      4  124\n",
      "       Brand     Model  Year  Price Fuel Type  Horsepower  Doors  Sum\n",
      "2       Ford     Focus  2021  19000    Diesel       180.0      4  124\n",
      "0     Toyota   Corolla  2020  20000    Petrol       195.0      4  134\n",
      "1      Honda     Civic  2019  22000    Petrol       225.0      4  154\n",
      "7     Nissan    Altima  2019  23000    Diesel       210.0      4  144\n",
      "6  Chevrolet    Malibu  2017  25000    Hybrid       240.0      4  164\n",
      "8        Kia  Sportage  2020  27000    Hybrid       270.0      5  185\n",
      "5       Audi        A4  2020  40000    Petrol       300.0      4  204\n",
      "3        BMW        X5  2018  50000    Diesel       450.0      5  305\n",
      "4   Mercedes   E-Class  2022  55000    Petrol       525.0      4  354\n"
     ]
    }
   ],
   "source": [
    "df_cars_sort = df_cars.sort_values(by='Price' ,ascending=False)\n",
    "print(df_cars_sort)\n",
    "df_cars_sort = df_cars.sort_values(by='Price' ,ascending=True)\n",
    "print(df_cars_sort)"
   ]
  },
  {
   "cell_type": "code",
   "execution_count": 140,
   "metadata": {},
   "outputs": [
    {
     "name": "stdout",
     "output_type": "stream",
     "text": [
      "                Price\n",
      "Fuel Type Year       \n",
      "Diesel    2018  50000\n",
      "          2019  23000\n",
      "          2021  19000\n",
      "Hybrid    2017  25000\n",
      "          2020  27000\n",
      "Petrol    2019  22000\n",
      "          2020  40000\n",
      "          2022  55000\n"
     ]
    }
   ],
   "source": [
    "df_cars_grouped=  df_cars.groupby(['Fuel Type', 'Year']).agg({'Price': 'max'})\n",
    "print(df_cars_grouped)\n"
   ]
  },
  {
   "cell_type": "code",
   "execution_count": 1,
   "metadata": {},
   "outputs": [
    {
     "ename": "SyntaxError",
     "evalue": "invalid syntax. Perhaps you forgot a comma? (7941975.py, line 3)",
     "output_type": "error",
     "traceback": [
      "\u001b[1;36m  Cell \u001b[1;32mIn[1], line 3\u001b[1;36m\u001b[0m\n\u001b[1;33m    \"Horsepower\" : ['min' ,'max' , 'mean']\u001b[0m\n\u001b[1;37m                   ^\u001b[0m\n\u001b[1;31mSyntaxError\u001b[0m\u001b[1;31m:\u001b[0m invalid syntax. Perhaps you forgot a comma?\n"
     ]
    }
   ],
   "source": [
    "df_cars_agg = df_cars.agg({\n",
    "    'Price': ['min', 'max', 'mean'],\n",
    "    \"Horsepower\" : ['min' ,'max' , 'mean']\n",
    "    'Year': 'mean',\n",
    "})\n",
    "print(df_cars_agg)\n"
   ]
  },
  {
   "cell_type": "code",
   "execution_count": 142,
   "metadata": {},
   "outputs": [
    {
     "name": "stdout",
     "output_type": "stream",
     "text": [
      "      Brand    Model  Year  Price Fuel Type  Horsepower  Doors  Sum\n",
      "3       BMW       X5  2018  50000    Diesel       450.0      5  305\n",
      "4  Mercedes  E-Class  2022  55000    Petrol       525.0      4  354\n",
      "5      Audi       A4  2020  40000    Petrol       300.0      4  204\n"
     ]
    }
   ],
   "source": [
    "df_cars_filtered = df_cars[df_cars['Price'] > 30000]\n",
    "print(df_cars_filtered)"
   ]
  },
  {
   "cell_type": "code",
   "execution_count": 143,
   "metadata": {},
   "outputs": [
    {
     "name": "stdout",
     "output_type": "stream",
     "text": [
      "    Brand   Model  Year  Price Fuel Type  Horsepower  Doors  Sum\n",
      "2    Ford   Focus  2021  19000    Diesel       180.0      4  124\n",
      "3     BMW      X5  2018  50000    Diesel       450.0      5  305\n",
      "7  Nissan  Altima  2019  23000    Diesel       210.0      4  144\n"
     ]
    }
   ],
   "source": [
    "df_cars_diesel = df_cars[df_cars['Fuel Type'] == 'Diesel']\n",
    "print(df_cars_diesel)"
   ]
  },
  {
   "cell_type": "code",
   "execution_count": 144,
   "metadata": {},
   "outputs": [
    {
     "name": "stdout",
     "output_type": "stream",
     "text": [
      "      Brand    Model  Year  Price Fuel Type  Horsepower  Doors  Sum\n",
      "1     Honda    Civic  2019  22000    Petrol       225.0      4  154\n",
      "4  Mercedes  E-Class  2022  55000    Petrol       525.0      4  354\n",
      "5      Audi       A4  2020  40000    Petrol       300.0      4  204\n"
     ]
    }
   ],
   "source": [
    "df_cars_query = df_cars.query('Price > 20000 and `Fuel Type` == \"Petrol\"')\n",
    "print(df_cars_query)\n"
   ]
  },
  {
   "cell_type": "code",
   "execution_count": 145,
   "metadata": {},
   "outputs": [
    {
     "name": "stdout",
     "output_type": "stream",
     "text": [
      "Doors        4    5\n",
      "Fuel Type          \n",
      "Diesel     2.0  1.0\n",
      "Hybrid     1.0  1.0\n",
      "Petrol     4.0  NaN\n"
     ]
    }
   ],
   "source": [
    "pivot_table = df_cars.pivot_table(index=\"Fuel Type\", columns=\"Doors\", values=\"Price\", aggfunc=\"count\")\n",
    "print(pivot_table)\n"
   ]
  },
  {
   "cell_type": "code",
   "execution_count": null,
   "metadata": {},
   "outputs": [],
   "source": []
  }
 ],
 "metadata": {
  "kernelspec": {
   "display_name": "Python 3",
   "language": "python",
   "name": "python3"
  },
  "language_info": {
   "codemirror_mode": {
    "name": "ipython",
    "version": 3
   },
   "file_extension": ".py",
   "mimetype": "text/x-python",
   "name": "python",
   "nbconvert_exporter": "python",
   "pygments_lexer": "ipython3",
   "version": "3.13.1"
  }
 },
 "nbformat": 4,
 "nbformat_minor": 2
}
