{
 "cells": [
  {
   "cell_type": "code",
   "execution_count": 1,
   "metadata": {},
   "outputs": [],
   "source": [
    "import pandas as pd"
   ]
  },
  {
   "cell_type": "code",
   "execution_count": 2,
   "metadata": {},
   "outputs": [],
   "source": [
    "car_data = {\n",
    "    \"Brand\": [\"Toyota\", \"Honda\", \"Ford\", \"BMW\", \"Mercedes\", \"Audi\", \"Chevrolet\", \"Nissan\", \"Hyundai\", \"Kia\"],\n",
    "    \"Model\": [\"Corolla\", \"Civic\", \"Focus\", \"X5\", \"E-Class\", \"A4\", \"Malibu\", \"Altima\", \"Elantra\", \"Sportage\"],\n",
    "    \"Year\": [2020, 2019, 2021, 2018, 2022, 2020, 2017, 2019, 2021, 2020],\n",
    "    \"Price\": [20000, 22000, 19000, 50000, 55000, 40000, 25000, 23000, 21000, 27000],\n",
    "    \"Mileage\": [30000, 25000, 40000, 50000, 20000, 30000, 45000, 28000, 35000, 32000],\n",
    "    \"Fuel Type\": [\"Petrol\", \"Petrol\", \"Diesel\", \"Diesel\", \"Petrol\", \"Petrol\", \"Hybrid\", \"Diesel\", \"Petrol\", \"Hybrid\"],\n",
    "    \"Horsepower\": [130, 150, 120, 300, 350, 200, 160, 140, 110, 180],\n",
    "    \"Doors\": [4, 4, 4, 5, 4, 4, 4, 4, 4, 5],\n",
    "}\n",
    "\n",
    "df_cars = pd.DataFrame(car_data)"
   ]
  },
  {
   "cell_type": "code",
   "execution_count": 3,
   "metadata": {},
   "outputs": [
    {
     "name": "stdout",
     "output_type": "stream",
     "text": [
      "      Brand    Model  Year  Price  Mileage Fuel Type  Horsepower  Doors\n",
      "0    Toyota  Corolla  2020  20000    30000    Petrol         130      4\n",
      "1     Honda    Civic  2019  22000    25000    Petrol         150      4\n",
      "2      Ford    Focus  2021  19000    40000    Diesel         120      4\n",
      "3       BMW       X5  2018  50000    50000    Diesel         300      5\n",
      "4  Mercedes  E-Class  2022  55000    20000    Petrol         350      4\n"
     ]
    }
   ],
   "source": [
    "print(df_cars.head())"
   ]
  },
  {
   "cell_type": "code",
   "execution_count": 4,
   "metadata": {},
   "outputs": [
    {
     "name": "stdout",
     "output_type": "stream",
     "text": [
      "       Brand     Model  Year  Price  Mileage Fuel Type  Horsepower  Doors\n",
      "5       Audi        A4  2020  40000    30000    Petrol         200      4\n",
      "6  Chevrolet    Malibu  2017  25000    45000    Hybrid         160      4\n",
      "7     Nissan    Altima  2019  23000    28000    Diesel         140      4\n",
      "8    Hyundai   Elantra  2021  21000    35000    Petrol         110      4\n",
      "9        Kia  Sportage  2020  27000    32000    Hybrid         180      5\n"
     ]
    }
   ],
   "source": [
    "print(df_cars.tail())"
   ]
  },
  {
   "cell_type": "code",
   "execution_count": 5,
   "metadata": {},
   "outputs": [
    {
     "name": "stdout",
     "output_type": "stream",
     "text": [
      "       Brand     Model  Year  Price  Mileage Fuel Type  Horsepower  Doors\n",
      "2       Ford     Focus  2021  19000    40000    Diesel         120      4\n",
      "9        Kia  Sportage  2020  27000    32000    Hybrid         180      5\n",
      "4   Mercedes   E-Class  2022  55000    20000    Petrol         350      4\n",
      "6  Chevrolet    Malibu  2017  25000    45000    Hybrid         160      4\n"
     ]
    }
   ],
   "source": [
    "print(df_cars.sample(4))"
   ]
  },
  {
   "cell_type": "code",
   "execution_count": 6,
   "metadata": {},
   "outputs": [
    {
     "name": "stdout",
     "output_type": "stream",
     "text": [
      "(10, 8)\n"
     ]
    }
   ],
   "source": [
    "print(df_cars.shape)"
   ]
  },
  {
   "cell_type": "code",
   "execution_count": 7,
   "metadata": {},
   "outputs": [
    {
     "name": "stdout",
     "output_type": "stream",
     "text": [
      "Index(['Brand', 'Model', 'Year', 'Price', 'Mileage', 'Fuel Type', 'Horsepower',\n",
      "       'Doors'],\n",
      "      dtype='object')\n"
     ]
    }
   ],
   "source": [
    "print(df_cars.columns)"
   ]
  },
  {
   "cell_type": "code",
   "execution_count": 8,
   "metadata": {},
   "outputs": [
    {
     "name": "stdout",
     "output_type": "stream",
     "text": [
      "RangeIndex(start=0, stop=10, step=1)\n"
     ]
    }
   ],
   "source": [
    "print(df_cars.index)"
   ]
  },
  {
   "cell_type": "code",
   "execution_count": 9,
   "metadata": {},
   "outputs": [
    {
     "name": "stdout",
     "output_type": "stream",
     "text": [
      "Brand         object\n",
      "Model         object\n",
      "Year           int64\n",
      "Price          int64\n",
      "Mileage        int64\n",
      "Fuel Type     object\n",
      "Horsepower     int64\n",
      "Doors          int64\n",
      "dtype: object\n"
     ]
    }
   ],
   "source": [
    "print(df_cars.dtypes)"
   ]
  },
  {
   "cell_type": "code",
   "execution_count": 10,
   "metadata": {},
   "outputs": [
    {
     "name": "stdout",
     "output_type": "stream",
     "text": [
      "<class 'pandas.core.frame.DataFrame'>\n",
      "RangeIndex: 10 entries, 0 to 9\n",
      "Data columns (total 8 columns):\n",
      " #   Column      Non-Null Count  Dtype \n",
      "---  ------      --------------  ----- \n",
      " 0   Brand       10 non-null     object\n",
      " 1   Model       10 non-null     object\n",
      " 2   Year        10 non-null     int64 \n",
      " 3   Price       10 non-null     int64 \n",
      " 4   Mileage     10 non-null     int64 \n",
      " 5   Fuel Type   10 non-null     object\n",
      " 6   Horsepower  10 non-null     int64 \n",
      " 7   Doors       10 non-null     int64 \n",
      "dtypes: int64(5), object(3)\n",
      "memory usage: 772.0+ bytes\n",
      "None\n"
     ]
    }
   ],
   "source": [
    "print(df_cars.info())"
   ]
  },
  {
   "cell_type": "code",
   "execution_count": 11,
   "metadata": {},
   "outputs": [
    {
     "name": "stdout",
     "output_type": "stream",
     "text": [
      "       Brand     Model  Year  Price  Mileage Fuel Type  Horsepower  Doors  Sum\n",
      "0     Toyota   Corolla  2020  20000    30000    Petrol         130      4  134\n",
      "1      Honda     Civic  2019  22000    25000    Petrol         150      4  154\n",
      "2       Ford     Focus  2021  19000    40000    Diesel         120      4  124\n",
      "3        BMW        X5  2018  50000    50000    Diesel         300      5  305\n",
      "4   Mercedes   E-Class  2022  55000    20000    Petrol         350      4  354\n",
      "5       Audi        A4  2020  40000    30000    Petrol         200      4  204\n",
      "6  Chevrolet    Malibu  2017  25000    45000    Hybrid         160      4  164\n",
      "7     Nissan    Altima  2019  23000    28000    Diesel         140      4  144\n",
      "8    Hyundai   Elantra  2021  21000    35000    Petrol         110      4  114\n",
      "9        Kia  Sportage  2020  27000    32000    Hybrid         180      5  185\n"
     ]
    }
   ],
   "source": [
    "df_cars[\"Sum\"] = df_cars[\"Horsepower\"] + df_cars[\"Doors\"]\n",
    "print(df_cars)"
   ]
  },
  {
   "cell_type": "code",
   "execution_count": 12,
   "metadata": {},
   "outputs": [
    {
     "name": "stdout",
     "output_type": "stream",
     "text": [
      "    Brand    Model  Price\n",
      "0  Toyota  Corolla  20000\n",
      "1   Honda    Civic  22000\n",
      "2    Ford    Focus  19000\n",
      "3     BMW       X5  50000\n"
     ]
    }
   ],
   "source": [
    "df_cars[['Brand', 'Model', 'Price']]\n",
    "df_cars.iloc[0:3]\n",
    "print(df_cars.loc[0:3,['Brand', 'Model', 'Price']])"
   ]
  },
  {
   "cell_type": "code",
   "execution_count": 13,
   "metadata": {},
   "outputs": [
    {
     "name": "stdout",
     "output_type": "stream",
     "text": [
      "       Brand     Model  Year  Price Fuel Type  Horsepower  Doors  Sum\n",
      "0     Toyota   Corolla  2020  20000    Petrol         130      4  134\n",
      "1      Honda     Civic  2019  22000    Petrol         150      4  154\n",
      "2       Ford     Focus  2021  19000    Diesel         120      4  124\n",
      "3        BMW        X5  2018  50000    Diesel         300      5  305\n",
      "4   Mercedes   E-Class  2022  55000    Petrol         350      4  354\n",
      "5       Audi        A4  2020  40000    Petrol         200      4  204\n",
      "6  Chevrolet    Malibu  2017  25000    Hybrid         160      4  164\n",
      "7     Nissan    Altima  2019  23000    Diesel         140      4  144\n",
      "9        Kia  Sportage  2020  27000    Hybrid         180      5  185\n"
     ]
    }
   ],
   "source": [
    "df_cars.drop('Mileage', axis=1, inplace=True)  \n",
    "df_cars.drop(8, axis=0, inplace=True)  \n",
    "print(df_cars)"
   ]
  },
  {
   "cell_type": "code",
   "execution_count": 14,
   "metadata": {},
   "outputs": [
    {
     "name": "stdout",
     "output_type": "stream",
     "text": [
      "  Brand Model  Year  Price Fuel Type  Horsepower  Doors  Sum\n",
      "3   BMW    X5  2018  50000    Diesel         300      5  305\n"
     ]
    }
   ],
   "source": [
    "df_cars_by_price = df_cars[(df_cars['Price'] > 30000) & (df_cars[\"Fuel Type\"] == 'Diesel')]\n",
    "print(df_cars_by_price)"
   ]
  },
  {
   "cell_type": "code",
   "execution_count": 15,
   "metadata": {},
   "outputs": [
    {
     "name": "stdout",
     "output_type": "stream",
     "text": [
      "              Model  Year  Price Fuel Type  Horsepower  Doors  Sum\n",
      "Brand                                                             \n",
      "Toyota      Corolla  2020  20000    Petrol         130      4  134\n",
      "Honda         Civic  2019  22000    Petrol         150      4  154\n",
      "Ford          Focus  2021  19000    Diesel         120      4  124\n",
      "BMW              X5  2018  50000    Diesel         300      5  305\n",
      "Mercedes    E-Class  2022  55000    Petrol         350      4  354\n",
      "Audi             A4  2020  40000    Petrol         200      4  204\n",
      "Chevrolet    Malibu  2017  25000    Hybrid         160      4  164\n",
      "Nissan       Altima  2019  23000    Diesel         140      4  144\n",
      "Kia        Sportage  2020  27000    Hybrid         180      5  185\n"
     ]
    }
   ],
   "source": [
    "df_cars.set_index('Brand', inplace=True)\n",
    "print(df_cars)"
   ]
  },
  {
   "cell_type": "code",
   "execution_count": 16,
   "metadata": {},
   "outputs": [
    {
     "name": "stdout",
     "output_type": "stream",
     "text": [
      "       Brand     Model  Year  Price Fuel Type  Horsepower  Doors  Sum\n",
      "0     Toyota   Corolla  2020  20000    Petrol         130      4  134\n",
      "1      Honda     Civic  2019  22000    Petrol         150      4  154\n",
      "2       Ford     Focus  2021  19000    Diesel         120      4  124\n",
      "3        BMW        X5  2018  50000    Diesel         300      5  305\n",
      "4   Mercedes   E-Class  2022  55000    Petrol         350      4  354\n",
      "5       Audi        A4  2020  40000    Petrol         200      4  204\n",
      "6  Chevrolet    Malibu  2017  25000    Hybrid         160      4  164\n",
      "7     Nissan    Altima  2019  23000    Diesel         140      4  144\n",
      "8        Kia  Sportage  2020  27000    Hybrid         180      5  185\n"
     ]
    }
   ],
   "source": [
    "df_cars.reset_index(inplace=True)\n",
    "print(df_cars)"
   ]
  },
  {
   "cell_type": "code",
   "execution_count": 17,
   "metadata": {},
   "outputs": [
    {
     "data": {
      "text/plain": [
       "Doors\n",
       "4    7\n",
       "5    2\n",
       "Name: count, dtype: int64"
      ]
     },
     "execution_count": 17,
     "metadata": {},
     "output_type": "execute_result"
    }
   ],
   "source": [
    "df_cars[\"Doors\"].value_counts()"
   ]
  },
  {
   "cell_type": "code",
   "execution_count": 18,
   "metadata": {},
   "outputs": [
    {
     "data": {
      "text/plain": [
       "array([4, 5])"
      ]
     },
     "execution_count": 18,
     "metadata": {},
     "output_type": "execute_result"
    }
   ],
   "source": [
    "df_cars[\"Doors\"].unique()"
   ]
  },
  {
   "cell_type": "code",
   "execution_count": 19,
   "metadata": {},
   "outputs": [
    {
     "data": {
      "text/plain": [
       "np.int64(38)"
      ]
     },
     "execution_count": 19,
     "metadata": {},
     "output_type": "execute_result"
    }
   ],
   "source": [
    "df_cars[\"Doors\"].sum()"
   ]
  },
  {
   "cell_type": "code",
   "execution_count": 20,
   "metadata": {},
   "outputs": [
    {
     "data": {
      "text/plain": [
       "np.float64(4.222222222222222)"
      ]
     },
     "execution_count": 20,
     "metadata": {},
     "output_type": "execute_result"
    }
   ],
   "source": [
    "df_cars[\"Doors\"].mean()"
   ]
  },
  {
   "cell_type": "code",
   "execution_count": 21,
   "metadata": {},
   "outputs": [
    {
     "name": "stdout",
     "output_type": "stream",
     "text": [
      "       Brand     Model  Year  Price Fuel Type  Horsepower  Doors  Sum\n",
      "0     Toyota   Corolla  2020  20000    Petrol       195.0      4  134\n",
      "1      Honda     Civic  2019  22000    Petrol       225.0      4  154\n",
      "2       Ford     Focus  2021  19000    Diesel       180.0      4  124\n",
      "3        BMW        X5  2018  50000    Diesel       450.0      5  305\n",
      "4   Mercedes   E-Class  2022  55000    Petrol       525.0      4  354\n",
      "5       Audi        A4  2020  40000    Petrol       300.0      4  204\n",
      "6  Chevrolet    Malibu  2017  25000    Hybrid       240.0      4  164\n",
      "7     Nissan    Altima  2019  23000    Diesel       210.0      4  144\n",
      "8        Kia  Sportage  2020  27000    Hybrid       270.0      5  185\n"
     ]
    }
   ],
   "source": [
    "df_cars['Horsepower'] = df_cars['Horsepower'].map(lambda x: x * 1.5)\n",
    "print(df_cars)"
   ]
  },
  {
   "cell_type": "code",
   "execution_count": 22,
   "metadata": {},
   "outputs": [
    {
     "name": "stdout",
     "output_type": "stream",
     "text": [
      "       Brand     Model  Year  Price Fuel Type  Horsepower  Doors  Sum\n",
      "4   Mercedes   E-Class  2022  55000    Petrol       525.0      4  354\n",
      "3        BMW        X5  2018  50000    Diesel       450.0      5  305\n",
      "5       Audi        A4  2020  40000    Petrol       300.0      4  204\n",
      "8        Kia  Sportage  2020  27000    Hybrid       270.0      5  185\n",
      "6  Chevrolet    Malibu  2017  25000    Hybrid       240.0      4  164\n",
      "7     Nissan    Altima  2019  23000    Diesel       210.0      4  144\n",
      "1      Honda     Civic  2019  22000    Petrol       225.0      4  154\n",
      "0     Toyota   Corolla  2020  20000    Petrol       195.0      4  134\n",
      "2       Ford     Focus  2021  19000    Diesel       180.0      4  124\n",
      "       Brand     Model  Year  Price Fuel Type  Horsepower  Doors  Sum\n",
      "2       Ford     Focus  2021  19000    Diesel       180.0      4  124\n",
      "0     Toyota   Corolla  2020  20000    Petrol       195.0      4  134\n",
      "1      Honda     Civic  2019  22000    Petrol       225.0      4  154\n",
      "7     Nissan    Altima  2019  23000    Diesel       210.0      4  144\n",
      "6  Chevrolet    Malibu  2017  25000    Hybrid       240.0      4  164\n",
      "8        Kia  Sportage  2020  27000    Hybrid       270.0      5  185\n",
      "5       Audi        A4  2020  40000    Petrol       300.0      4  204\n",
      "3        BMW        X5  2018  50000    Diesel       450.0      5  305\n",
      "4   Mercedes   E-Class  2022  55000    Petrol       525.0      4  354\n"
     ]
    }
   ],
   "source": [
    "df_cars_sort = df_cars.sort_values(by='Price' ,ascending=False)\n",
    "print(df_cars_sort)\n",
    "df_cars_sort = df_cars.sort_values(by='Price' ,ascending=True)\n",
    "print(df_cars_sort)"
   ]
  },
  {
   "cell_type": "code",
   "execution_count": 23,
   "metadata": {},
   "outputs": [
    {
     "name": "stdout",
     "output_type": "stream",
     "text": [
      "                Price\n",
      "Fuel Type Year       \n",
      "Diesel    2018  50000\n",
      "          2019  23000\n",
      "          2021  19000\n",
      "Hybrid    2017  25000\n",
      "          2020  27000\n",
      "Petrol    2019  22000\n",
      "          2020  40000\n",
      "          2022  55000\n"
     ]
    }
   ],
   "source": [
    "df_cars_grouped=  df_cars.groupby(['Fuel Type', 'Year']).agg({'Price': 'max'})\n",
    "print(df_cars_grouped)\n"
   ]
  },
  {
   "cell_type": "code",
   "execution_count": 24,
   "metadata": {},
   "outputs": [
    {
     "name": "stdout",
     "output_type": "stream",
     "text": [
      "             Price         Year  Horsepower\n",
      "min   19000.000000          NaN  180.000000\n",
      "max   55000.000000          NaN  525.000000\n",
      "mean  31222.222222  2019.555556  288.333333\n"
     ]
    }
   ],
   "source": [
    "df_cars_agg = df_cars.agg({\n",
    "    'Price': ['min', 'max', 'mean'],\n",
    "    'Year': 'mean',\n",
    "    \"Horsepower\" : ['min' ,'max' , 'mean']\n",
    "})\n",
    "print(df_cars_agg)\n"
   ]
  },
  {
   "cell_type": "code",
   "execution_count": 25,
   "metadata": {},
   "outputs": [
    {
     "name": "stdout",
     "output_type": "stream",
     "text": [
      "      Brand    Model  Year  Price Fuel Type  Horsepower  Doors  Sum\n",
      "3       BMW       X5  2018  50000    Diesel       450.0      5  305\n",
      "4  Mercedes  E-Class  2022  55000    Petrol       525.0      4  354\n",
      "5      Audi       A4  2020  40000    Petrol       300.0      4  204\n"
     ]
    }
   ],
   "source": [
    "df_cars_filtered = df_cars[df_cars['Price'] > 30000]\n",
    "print(df_cars_filtered)"
   ]
  },
  {
   "cell_type": "code",
   "execution_count": 26,
   "metadata": {},
   "outputs": [
    {
     "name": "stdout",
     "output_type": "stream",
     "text": [
      "    Brand   Model  Year  Price Fuel Type  Horsepower  Doors  Sum\n",
      "2    Ford   Focus  2021  19000    Diesel       180.0      4  124\n",
      "3     BMW      X5  2018  50000    Diesel       450.0      5  305\n",
      "7  Nissan  Altima  2019  23000    Diesel       210.0      4  144\n"
     ]
    }
   ],
   "source": [
    "df_cars_diesel = df_cars[df_cars['Fuel Type'] == 'Diesel']\n",
    "print(df_cars_diesel)"
   ]
  },
  {
   "cell_type": "code",
   "execution_count": 27,
   "metadata": {},
   "outputs": [
    {
     "name": "stdout",
     "output_type": "stream",
     "text": [
      "      Brand    Model  Year  Price Fuel Type  Horsepower  Doors  Sum\n",
      "1     Honda    Civic  2019  22000    Petrol       225.0      4  154\n",
      "4  Mercedes  E-Class  2022  55000    Petrol       525.0      4  354\n",
      "5      Audi       A4  2020  40000    Petrol       300.0      4  204\n"
     ]
    }
   ],
   "source": [
    "df_cars_query = df_cars.query('Price > 20000 and `Fuel Type` == \"Petrol\"')\n",
    "print(df_cars_query)\n"
   ]
  },
  {
   "cell_type": "code",
   "execution_count": 28,
   "metadata": {},
   "outputs": [
    {
     "name": "stdout",
     "output_type": "stream",
     "text": [
      "Doors        4    5\n",
      "Fuel Type          \n",
      "Diesel     2.0  1.0\n",
      "Hybrid     1.0  1.0\n",
      "Petrol     4.0  NaN\n"
     ]
    }
   ],
   "source": [
    "pivot_table = df_cars.pivot_table(index=\"Fuel Type\", columns=\"Doors\", values=\"Price\", aggfunc=\"count\")\n",
    "print(pivot_table)\n"
   ]
  }
 ],
 "metadata": {
  "kernelspec": {
   "display_name": "Python 3",
   "language": "python",
   "name": "python3"
  },
  "language_info": {
   "codemirror_mode": {
    "name": "ipython",
    "version": 3
   },
   "file_extension": ".py",
   "mimetype": "text/x-python",
   "name": "python",
   "nbconvert_exporter": "python",
   "pygments_lexer": "ipython3",
   "version": "3.13.1"
  }
 },
 "nbformat": 4,
 "nbformat_minor": 2
}
