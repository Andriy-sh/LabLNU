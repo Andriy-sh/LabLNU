{
 "cells": [
  {
   "cell_type": "code",
   "execution_count": 1,
   "metadata": {},
   "outputs": [],
   "source": [
    "import pandas as pd"
   ]
  },
  {
   "cell_type": "code",
   "execution_count": 2,
   "metadata": {},
   "outputs": [
    {
     "name": "stdout",
     "output_type": "stream",
     "text": [
      "      OrderDate Region         City  Category         Product  Quantity  \\\n",
      "0      1/4/2020   East       Boston  Crackers     Whole Wheat        87   \n",
      "1      1/7/2020   West  Los Angeles   Cookies  Chocolate Chip        58   \n",
      "2     1/10/2020   East     New York   Cookies  Chocolate Chip        82   \n",
      "3     1/13/2020   East       Boston   Cookies       Arrowroot        38   \n",
      "4     1/16/2020   East       Boston      Bars          Carrot        54   \n",
      "..          ...    ...          ...       ...             ...       ...   \n",
      "238  12/18/2021   East       Boston   Cookies       Arrowroot        34   \n",
      "239  12/21/2021   East       Boston   Cookies  Chocolate Chip       245   \n",
      "240  12/24/2021   East       Boston  Crackers     Whole Wheat        30   \n",
      "241  12/27/2021   West  Los Angeles      Bars            Bran        30   \n",
      "242  12/30/2021   West  Los Angeles   Cookies  Oatmeal Raisin        44   \n",
      "\n",
      "     UnitPrice  Unnamed: 7  \n",
      "0         3.49         NaN  \n",
      "1         1.87         NaN  \n",
      "2         1.87         NaN  \n",
      "3         2.18         NaN  \n",
      "4         1.77         NaN  \n",
      "..         ...         ...  \n",
      "238       2.18         NaN  \n",
      "239       1.87         NaN  \n",
      "240       3.49         NaN  \n",
      "241       1.87         NaN  \n",
      "242       2.84         NaN  \n",
      "\n",
      "[243 rows x 8 columns]\n"
     ]
    }
   ],
   "source": [
    "file = \"sampledatafoodsales.csv\"\n",
    "df = pd.read_csv(file)\n",
    "print(df)"
   ]
  },
  {
   "cell_type": "code",
   "execution_count": 3,
   "metadata": {},
   "outputs": [
    {
     "name": "stdout",
     "output_type": "stream",
     "text": [
      "Summa vcih povupok 33267.17\n"
     ]
    }
   ],
   "source": [
    "df['Total'] = df['Quantity']*df['UnitPrice']\n",
    "print(\"Summa vcih povupok\",df['Total'].sum())"
   ]
  },
  {
   "cell_type": "code",
   "execution_count": 4,
   "metadata": {},
   "outputs": [
    {
     "name": "stdout",
     "output_type": "stream",
     "text": [
      "5389\n"
     ]
    }
   ],
   "source": [
    "df[\"OrderDate\"] = pd.to_datetime(df['OrderDate'])\n",
    "total_in_2020 = df[(df[\"OrderDate\"].dt.year == 2020) & (df['Region'] == 'East')]['Quantity'].sum()\n",
    "print(total_in_2020)        "
   ]
  },
  {
   "cell_type": "code",
   "execution_count": 5,
   "metadata": {},
   "outputs": [
    {
     "name": "stdout",
     "output_type": "stream",
     "text": [
      "6653.433999999998\n"
     ]
    }
   ],
   "source": [
    "df[\"Profit\"] = df['Total'] - (df[\"Total\"] * 0.8)\n",
    "print(df['Profit'].sum())"
   ]
  },
  {
   "cell_type": "code",
   "execution_count": 6,
   "metadata": {},
   "outputs": [
    {
     "name": "stdout",
     "output_type": "stream",
     "text": [
      "Category\n",
      "Bars        1.77\n",
      "Cookies     1.87\n",
      "Crackers    3.49\n",
      "Snacks      1.35\n",
      "Name: UnitPrice, dtype: float64\n"
     ]
    }
   ],
   "source": [
    "min_score = df.groupby('Category')['UnitPrice'].min()\n",
    "print(min_score)"
   ]
  },
  {
   "cell_type": "code",
   "execution_count": 7,
   "metadata": {},
   "outputs": [
    {
     "name": "stdout",
     "output_type": "stream",
     "text": [
      "    Region         City         RegionCity\n",
      "0     East       Boston       East, Boston\n",
      "1     West  Los Angeles  West, Los Angeles\n",
      "2     East     New York     East, New York\n",
      "3     East       Boston       East, Boston\n",
      "4     East       Boston       East, Boston\n",
      "..     ...          ...                ...\n",
      "238   East       Boston       East, Boston\n",
      "239   East       Boston       East, Boston\n",
      "240   East       Boston       East, Boston\n",
      "241   West  Los Angeles  West, Los Angeles\n",
      "242   West  Los Angeles  West, Los Angeles\n",
      "\n",
      "[243 rows x 3 columns]\n"
     ]
    }
   ],
   "source": [
    "df[\"RegionCity\"] = df['Region'] + ', ' + df['City']\n",
    "print(df[[\"Region\",'City','RegionCity']])"
   ]
  },
  {
   "cell_type": "code",
   "execution_count": 8,
   "metadata": {},
   "outputs": [
    {
     "name": "stdout",
     "output_type": "stream",
     "text": [
      "Carrot\n"
     ]
    }
   ],
   "source": [
    "most_common_value = df['Product'].value_counts().idxmax()\n",
    "print(most_common_value)"
   ]
  },
  {
   "cell_type": "code",
   "execution_count": 9,
   "metadata": {},
   "outputs": [
    {
     "name": "stdout",
     "output_type": "stream",
     "text": [
      "Banana\n"
     ]
    }
   ],
   "source": [
    "least_common_value = df['Product'].value_counts().idxmin()\n",
    "print(least_common_value)"
   ]
  },
  {
   "cell_type": "code",
   "execution_count": null,
   "metadata": {},
   "outputs": [
    {
     "name": "stdout",
     "output_type": "stream",
     "text": [
      "37.0\n",
      "Product\n",
      "Carrot            63\n",
      "Chocolate Chip    33\n",
      "Arrowroot         31\n",
      "Oatmeal Raisin    31\n",
      "Bran              27\n",
      "Whole Wheat       26\n",
      "Potato Chips      22\n",
      "Pretzels           7\n",
      "Banana             3\n",
      "Name: count, dtype: int64\n"
     ]
    }
   ],
   "source": [
    "avg_top_5 = df['Product'].value_counts().sort_values(ascending=False).head().mean()\n",
    "print(avg_top_5)  "
   ]
  },
  {
   "cell_type": "code",
   "execution_count": 11,
   "metadata": {},
   "outputs": [
    {
     "name": "stdout",
     "output_type": "stream",
     "text": [
      "City         Product         Sale Status    \n",
      "Boston       Carrot          low unit price     18\n",
      "             Whole Wheat     high unit price    17\n",
      "Los Angeles  Carrot          low unit price     17\n",
      "New York     Carrot          low unit price     17\n",
      "Boston       Arrowroot       high unit price    16\n",
      "San Diego    Carrot          low unit price     11\n",
      "Los Angeles  Chocolate Chip  low unit price     10\n",
      "New York     Potato Chips    low unit price      9\n",
      "             Bran            low unit price      9\n",
      "Boston       Oatmeal Raisin  high unit price     9\n",
      "Los Angeles  Oatmeal Raisin  high unit price     8\n",
      "San Diego    Chocolate Chip  low unit price      8\n",
      "New York     Chocolate Chip  low unit price      8\n",
      "             Oatmeal Raisin  high unit price     8\n",
      "Boston       Chocolate Chip  low unit price      7\n",
      "             Bran            low unit price      7\n",
      "             Pretzels        high unit price     7\n",
      "Los Angeles  Bran            low unit price      7\n",
      "             Potato Chips    low unit price      7\n",
      "San Diego    Oatmeal Raisin  high unit price     6\n",
      "New York     Arrowroot       high unit price     6\n",
      "San Diego    Arrowroot       high unit price     5\n",
      "New York     Whole Wheat     high unit price     5\n",
      "San Diego    Bran            low unit price      4\n",
      "Los Angeles  Arrowroot       high unit price     4\n",
      "Boston       Banana          high unit price     3\n",
      "             Potato Chips    low unit price      3\n",
      "San Diego    Potato Chips    low unit price      3\n",
      "Los Angeles  Whole Wheat     high unit price     2\n",
      "San Diego    Whole Wheat     high unit price     2\n",
      "Name: count, dtype: int64\n"
     ]
    }
   ],
   "source": [
    "df['Sale Status'] = df['UnitPrice'].apply(lambda x: 'high unit price' if x > 2 else 'low unit price')\n",
    "print(df[[\"City\", 'Product', 'Sale Status']].sort_values(by='Sale Status', ascending=False).value_counts())\n"
   ]
  },
  {
   "cell_type": "code",
   "execution_count": 12,
   "metadata": {},
   "outputs": [
    {
     "name": "stdout",
     "output_type": "stream",
     "text": [
      "City\n",
      "Los Angeles    68.527273\n",
      "New York       64.612903\n",
      "Boston         64.563218\n",
      "Name: Quantity, dtype: float64\n"
     ]
    }
   ],
   "source": [
    "print(df.groupby('City')['Quantity'].mean().sort_values(ascending=False).head(3))"
   ]
  }
 ],
 "metadata": {
  "kernelspec": {
   "display_name": "Python 3",
   "language": "python",
   "name": "python3"
  },
  "language_info": {
   "codemirror_mode": {
    "name": "ipython",
    "version": 3
   },
   "file_extension": ".py",
   "mimetype": "text/x-python",
   "name": "python",
   "nbconvert_exporter": "python",
   "pygments_lexer": "ipython3",
   "version": "3.13.1"
  }
 },
 "nbformat": 4,
 "nbformat_minor": 2
}
