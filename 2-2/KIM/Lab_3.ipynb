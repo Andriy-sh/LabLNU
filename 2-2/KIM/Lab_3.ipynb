{
 "cells": [
  {
   "cell_type": "code",
   "execution_count": null,
   "metadata": {},
   "outputs": [],
   "source": [
    "import numpy as np\n",
    "import pandas as pd\n",
    "import math\n",
    "\n",
    "def F(x, p=8):\n",
    "    return (1 / p) * np.cos(x - p)\n",
    "\n",
    "x0, xn, n = -8, 8, 20  \n",
    "h = (xn - x0) / n\n",
    "x_values = np.linspace(x0, xn, n+1)\n",
    "y_values = F(x_values)\n",
    "\n",
    "data = pd.DataFrame({'x': x_values, 'F(x)': y_values})\n",
    "\n",
    "with open(\"function_values.txt\", \"w\") as file:\n",
    "    file.write(data.to_string(index=False))\n",
    "\n",
    "def factorial(t, k):\n",
    "    result = 1\n",
    "    for i in range(k):\n",
    "        result *= (t - i)\n",
    "    return result\n",
    "\n",
    "# Обчислення факторіальних значень\n",
    "factorial_values = [math.factorial(k) for k in range(n+1)]\n",
    "\n",
    "def finite_difference(f_values, k):\n",
    "    if k == 0:\n",
    "        return f_values\n",
    "    return [f_values[i+1] - f_values[i] for i in range(len(f_values)-1)]\n",
    "\n",
    "# Обчислення всіх скінченних різниць\n",
    "finite_diffs = [y_values]\n",
    "for k in range(1, n+1):\n",
    "    finite_diffs.append(finite_difference(finite_diffs[-1], k))\n",
    "\n",
    "# Функція апроксимації\n",
    "def f_approx(t, f_values, h):\n",
    "    t_scaled = t / h\n",
    "    approx = 0\n",
    "    for k in range(len(f_values)):\n",
    "        term = (finite_diffs[k][0] / factorial_values[k]) * factorial(t_scaled, k)\n",
    "        approx += term\n",
    "    return approx\n",
    "\n",
    "# Перевірка апроксимації\n",
    "approx_values = [f_approx(t, y_values, h) for t in x_values]\n",
    "\n",
    "data['F_approx(x)'] = approx_values\n",
    "\n",
    "# Збереження оновленої таблиці в текстовий файл\n",
    "with open(\"function_approximation.txt\", \"w\") as file:\n",
    "    file.write(data.to_string(index=False))\n"
   ]
  }
 ],
 "metadata": {
  "kernelspec": {
   "display_name": "Python 3",
   "language": "python",
   "name": "python3"
  },
  "language_info": {
   "codemirror_mode": {
    "name": "ipython",
    "version": 3
   },
   "file_extension": ".py",
   "mimetype": "text/x-python",
   "name": "python",
   "nbconvert_exporter": "python",
   "pygments_lexer": "ipython3",
   "version": "3.13.1"
  }
 },
 "nbformat": 4,
 "nbformat_minor": 2
}
