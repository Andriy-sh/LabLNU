{
 "cells": [
  {
   "cell_type": "code",
   "execution_count": 134,
   "metadata": {},
   "outputs": [],
   "source": [
    "import numpy as np\n",
    "import pandas as pd\n",
    "import math\n",
    "import matplotlib.pyplot as plt"
   ]
  },
  {
   "cell_type": "code",
   "execution_count": 135,
   "metadata": {},
   "outputs": [],
   "source": [
    "def F(x):\n",
    "    return (1 / 8) * np.cos(x - 8)"
   ]
  },
  {
   "cell_type": "code",
   "execution_count": 136,
   "metadata": {},
   "outputs": [],
   "source": [
    "x0, xn, n = -8, 8, 20  \n",
    "h = (xn - x0) / n\n",
    "x_values = np.linspace(x0, xn, n+1)\n",
    "y_values = F(x_values)\n",
    "\n",
    "data = pd.DataFrame({'x': x_values, 'F(x)': y_values})\n",
    "\n",
    "with open(\"tabulation.txt\", \"w\") as file:\n",
    "    file.write(data.to_string(index=False))"
   ]
  },
  {
   "cell_type": "code",
   "execution_count": 137,
   "metadata": {},
   "outputs": [
    {
     "name": "stdout",
     "output_type": "stream",
     "text": [
      "1\n"
     ]
    }
   ],
   "source": [
    "def factorial(k):\n",
    "    if k < 0:\n",
    "        print(\"Число повинно бути не менше 0!\")\n",
    "        return  \n",
    "    result = 1\n",
    "    for i in range(2, k + 1):\n",
    "        result *= i\n",
    "    return result\n",
    "\n",
    "print(factorial(1))  \n"
   ]
  },
  {
   "cell_type": "code",
   "execution_count": 138,
   "metadata": {},
   "outputs": [
    {
     "name": "stdout",
     "output_type": "stream",
     "text": [
      "10\n"
     ]
    }
   ],
   "source": [
    "def combination(n, k):\n",
    "    return factorial(n) // (factorial(k) * factorial(n - k))\n",
    "print(combination(5,3))"
   ]
  },
  {
   "cell_type": "code",
   "execution_count": 139,
   "metadata": {},
   "outputs": [
    {
     "name": "stdout",
     "output_type": "stream",
     "text": [
      "1\n"
     ]
    }
   ],
   "source": [
    "def permutations(n, k):\n",
    "    if k > n:\n",
    "        return 0\n",
    "    return factorial(n) // (factorial(k) * factorial(n - k))\n",
    "print(permutations(3,3))"
   ]
  },
  {
   "cell_type": "code",
   "execution_count": 140,
   "metadata": {},
   "outputs": [],
   "source": [
    "def step(n):\n",
    "    return -1 if n % 2 else 1"
   ]
  },
  {
   "cell_type": "code",
   "execution_count": 141,
   "metadata": {},
   "outputs": [],
   "source": [
    "def finite_d(k, y_values):\n",
    "    suma = 0\n",
    "    for j in range(k + 1):\n",
    "        suma += y_values[j] * step(k - j) * combination(k, j)\n",
    "    return suma"
   ]
  },
  {
   "cell_type": "code",
   "execution_count": 142,
   "metadata": {},
   "outputs": [],
   "source": [
    "def factorial_p(t, k):\n",
    "    mn = 1\n",
    "    for i in range(k):\n",
    "        mn *= (t - i)\n",
    "    return mn"
   ]
  },
  {
   "cell_type": "code",
   "execution_count": 143,
   "metadata": {},
   "outputs": [],
   "source": [
    "def approximate_f(n, t, y_values):\n",
    "    suma = 0\n",
    "    for k in range(n + 1):\n",
    "        suma += finite_d(k, y_values) * factorial_p(t, k) / factorial(k)\n",
    "    return suma\n"
   ]
  },
  {
   "cell_type": "code",
   "execution_count": 144,
   "metadata": {},
   "outputs": [],
   "source": [
    "approx_value = approximate_f(n, 1, y_values)\n",
    "approx = [approximate_f(n, t, y_values) for t in t_values]\n"
   ]
  },
  {
   "cell_type": "code",
   "execution_count": 145,
   "metadata": {},
   "outputs": [
    {
     "name": "stdout",
     "output_type": "stream",
     "text": [
      "t=0.00 | F=-0.119707 | F_approx=-0.119707 | error=0.00e+00\n",
      "t=0.20 | F=-0.123938 | F_approx=-0.123941 | error=2.61e-06\n",
      "t=0.40 | F=-0.124939 | F_approx=-0.124941 | error=2.23e-06\n",
      "t=0.61 | F=-0.122684 | F_approx=-0.122685 | error=1.22e-06\n",
      "t=0.81 | F=-0.117231 | F_approx=-0.117231 | error=4.22e-07\n",
      "t=1.01 | F=-0.108722 | F_approx=-0.108722 | error=1.40e-08\n",
      "t=1.21 | F=-0.097380 | F_approx=-0.097380 | error=1.66e-07\n",
      "t=1.41 | F=-0.083500 | F_approx=-0.083500 | error=1.62e-07\n",
      "t=1.62 | F=-0.067444 | F_approx=-0.067444 | error=1.01e-07\n",
      "t=1.82 | F=-0.049630 | F_approx=-0.049630 | error=3.82e-08\n",
      "t=2.02 | F=-0.030522 | F_approx=-0.030522 | error=2.99e-09\n",
      "t=2.22 | F=-0.010619 | F_approx=-0.010619 | error=2.05e-08\n",
      "t=2.42 | F=0.009561 | F_approx=0.009561 | error=2.15e-08\n",
      "t=2.63 | F=0.029491 | F_approx=0.029491 | error=1.43e-08\n",
      "t=2.83 | F=0.048653 | F_approx=0.048653 | error=5.67e-09\n",
      "t=3.03 | F=0.066547 | F_approx=0.066547 | error=7.59e-10\n",
      "t=3.23 | F=0.082707 | F_approx=0.082707 | error=3.90e-09\n",
      "t=3.43 | F=0.096711 | F_approx=0.096711 | error=4.25e-09\n",
      "t=3.64 | F=0.108194 | F_approx=0.108194 | error=2.97e-09\n",
      "t=3.84 | F=0.116858 | F_approx=0.116858 | error=1.21e-09\n",
      "t=4.04 | F=0.122476 | F_approx=0.122476 | error=2.42e-10\n",
      "t=4.24 | F=0.124902 | F_approx=0.124902 | error=1.03e-09\n",
      "t=4.44 | F=0.124072 | F_approx=0.124072 | error=1.16e-09\n",
      "t=4.65 | F=0.120009 | F_approx=0.120009 | error=8.38e-10\n",
      "t=4.85 | F=0.112818 | F_approx=0.112818 | error=3.45e-10\n",
      "t=5.05 | F=0.102686 | F_approx=0.102686 | error=9.65e-11\n",
      "t=5.25 | F=0.089879 | F_approx=0.089879 | error=3.57e-10\n",
      "t=5.45 | F=0.074729 | F_approx=0.074729 | error=4.11e-10\n",
      "t=5.66 | F=0.057631 | F_approx=0.057631 | error=3.06e-10\n",
      "t=5.86 | F=0.039031 | F_approx=0.039031 | error=1.26e-10\n",
      "t=6.06 | F=0.019414 | F_approx=0.019414 | error=4.73e-11\n",
      "t=6.26 | F=-0.000709 | F_approx=-0.000709 | error=1.58e-10\n",
      "t=6.46 | F=-0.020814 | F_approx=-0.020814 | error=1.85e-10\n",
      "t=6.67 | F=-0.040376 | F_approx=-0.040376 | error=1.41e-10\n",
      "t=6.87 | F=-0.058886 | F_approx=-0.058886 | error=5.76e-11\n",
      "t=7.07 | F=-0.075861 | F_approx=-0.075861 | error=2.81e-11\n",
      "t=7.27 | F=-0.090859 | F_approx=-0.090859 | error=8.66e-11\n",
      "t=7.47 | F=-0.103489 | F_approx=-0.103489 | error=1.03e-10\n",
      "t=7.68 | F=-0.113421 | F_approx=-0.113421 | error=8.02e-11\n",
      "t=7.88 | F=-0.120398 | F_approx=-0.120398 | error=3.23e-11\n",
      "t=8.08 | F=-0.124237 | F_approx=-0.124237 | error=2.02e-11\n",
      "t=8.28 | F=-0.124837 | F_approx=-0.124837 | error=5.83e-11\n",
      "t=8.48 | F=-0.122184 | F_approx=-0.122184 | error=7.06e-11\n",
      "t=8.69 | F=-0.116347 | F_approx=-0.116347 | error=5.58e-11\n",
      "t=8.89 | F=-0.107477 | F_approx=-0.107477 | error=2.19e-11\n",
      "t=9.09 | F=-0.095806 | F_approx=-0.095806 | error=1.74e-11\n",
      "t=9.29 | F=-0.081638 | F_approx=-0.081638 | error=4.77e-11\n",
      "t=9.49 | F=-0.065342 | F_approx=-0.065342 | error=5.86e-11\n",
      "t=9.70 | F=-0.047343 | F_approx=-0.047343 | error=4.71e-11\n",
      "t=9.90 | F=-0.028111 | F_approx=-0.028111 | error=1.79e-11\n",
      "t=10.10 | F=-0.008146 | F_approx=-0.008146 | error=1.80e-11\n",
      "t=10.30 | F=0.012032 | F_approx=0.012032 | error=4.73e-11\n",
      "t=10.51 | F=0.031896 | F_approx=0.031896 | error=5.91e-11\n",
      "t=10.71 | F=0.050929 | F_approx=0.050929 | error=4.82e-11\n",
      "t=10.91 | F=0.068634 | F_approx=0.068634 | error=1.77e-11\n",
      "t=11.11 | F=0.084551 | F_approx=0.084551 | error=2.20e-11\n",
      "t=11.31 | F=0.098263 | F_approx=0.098263 | error=5.64e-11\n",
      "t=11.52 | F=0.109415 | F_approx=0.109415 | error=7.15e-11\n",
      "t=11.72 | F=0.117715 | F_approx=0.117715 | error=5.91e-11\n",
      "t=11.92 | F=0.122948 | F_approx=0.122948 | error=2.02e-11\n",
      "t=12.12 | F=0.124975 | F_approx=0.124975 | error=3.35e-11\n",
      "t=12.32 | F=0.123746 | F_approx=0.123746 | error=8.29e-11\n",
      "t=12.53 | F=0.119291 | F_approx=0.119291 | error=1.07e-10\n",
      "t=12.73 | F=0.111728 | F_approx=0.111728 | error=9.01e-11\n",
      "t=12.93 | F=0.101252 | F_approx=0.101252 | error=3.01e-11\n",
      "t=13.13 | F=0.088137 | F_approx=0.088137 | error=5.84e-11\n",
      "t=13.33 | F=0.072725 | F_approx=0.072725 | error=1.45e-10\n",
      "t=13.54 | F=0.055418 | F_approx=0.055418 | error=1.91e-10\n",
      "t=13.74 | F=0.036667 | F_approx=0.036667 | error=1.62e-10\n",
      "t=13.94 | F=0.016960 | F_approx=0.016960 | error=4.70e-11\n",
      "t=14.14 | F=-0.003190 | F_approx=-0.003190 | error=1.35e-10\n",
      "t=14.34 | F=-0.023256 | F_approx=-0.023256 | error=3.25e-10\n",
      "t=14.55 | F=-0.042716 | F_approx=-0.042716 | error=4.37e-10\n",
      "t=14.75 | F=-0.061062 | F_approx=-0.061062 | error=3.82e-10\n",
      "t=14.95 | F=-0.077818 | F_approx=-0.077818 | error=1.08e-10\n",
      "t=15.15 | F=-0.092545 | F_approx=-0.092545 | error=3.58e-10\n",
      "t=15.35 | F=-0.104860 | F_approx=-0.104860 | error=8.82e-10\n",
      "t=15.56 | F=-0.114442 | F_approx=-0.114442 | error=1.22e-09\n",
      "t=15.76 | F=-0.121041 | F_approx=-0.121041 | error=1.09e-09\n",
      "t=15.96 | F=-0.124486 | F_approx=-0.124486 | error=2.45e-10\n",
      "t=16.16 | F=-0.124686 | F_approx=-0.124686 | error=1.31e-09\n",
      "t=16.36 | F=-0.121637 | F_approx=-0.121637 | error=3.21e-09\n",
      "t=16.57 | F=-0.115417 | F_approx=-0.115417 | error=4.60e-09\n",
      "t=16.77 | F=-0.106189 | F_approx=-0.106189 | error=4.24e-09\n",
      "t=16.97 | F=-0.094194 | F_approx=-0.094194 | error=8.52e-10\n",
      "t=17.17 | F=-0.079743 | F_approx=-0.079743 | error=6.11e-09\n",
      "t=17.37 | F=-0.063215 | F_approx=-0.063215 | error=1.55e-08\n",
      "t=17.58 | F=-0.045038 | F_approx=-0.045038 | error=2.33e-08\n",
      "t=17.78 | F=-0.025688 | F_approx=-0.025688 | error=2.24e-08\n",
      "t=17.98 | F=-0.005669 | F_approx=-0.005669 | error=3.20e-09\n",
      "t=18.18 | F=0.014499 | F_approx=0.014499 | error=4.19e-08\n",
      "t=18.38 | F=0.034288 | F_approx=0.034288 | error=1.11e-07\n",
      "t=18.59 | F=0.053184 | F_approx=0.053184 | error=1.79e-07\n",
      "t=18.79 | F=0.070694 | F_approx=0.070693 | error=1.84e-07\n",
      "t=18.99 | F=0.086361 | F_approx=0.086361 | error=1.56e-08\n",
      "t=19.19 | F=0.099777 | F_approx=0.099778 | error=4.68e-07\n",
      "t=19.39 | F=0.110593 | F_approx=0.110595 | error=1.36e-06\n",
      "t=19.60 | F=0.118527 | F_approx=0.118529 | error=2.49e-06\n",
      "t=19.80 | F=0.123371 | F_approx=0.123374 | error=2.92e-06\n",
      "t=20.00 | F=0.125000 | F_approx=0.125000 | error=3.03e-10\n"
     ]
    },
    {
     "data": {
      "image/png": "[encoded data removed]",
      "text/plain": [
       "<Figure size 1000x600 with 1 Axes>"
      ]
     },
     "metadata": {},
     "output_type": "display_data"
    }
   ],
   "source": [
    "x_eval = x0 + t_values * h\n",
    "true_values = F(x_eval)\n",
    "\n",
    "# Похибка\n",
    "errors = np.abs(true_values - approx)\n",
    "\n",
    "# Вивід\n",
    "for t, f_t, f_appr, err in zip(t_values, true_values, approx, errors):\n",
    "    print(f\"t={t:.2f} | F={f_t:.6f} | F_approx={f_appr:.6f} | error={err:.2e}\")\n",
    "\n",
    "# Збереження похибок у файл\n",
    "df_errors = pd.DataFrame({'t': t_values, 'x': x_eval, 'F(x)': true_values, 'F_approx': approx, 'Error': errors})\n",
    "df_errors.to_csv(\"approximation_errors.txt\", index=False, sep='\\t')\n",
    "\n",
    "# Побудова графіка похибки\n",
    "plt.figure(figsize=(10, 6))\n",
    "plt.plot(x_eval, errors, label='Похибка апроксимації', color='red')\n",
    "plt.xlabel('x')\n",
    "plt.ylabel('Похибка')\n",
    "plt.title('Графік похибки ε(t) = |f(t) - f_approx(t)|')\n",
    "plt.grid(True)\n",
    "plt.legend()\n",
    "plt.savefig(\"error_plot.png\")\n",
    "plt.show()"
   ]
  }
 ],
 "metadata": {
  "kernelspec": {
   "display_name": "Python 3",
   "language": "python",
   "name": "python3"
  },
  "language_info": {
   "codemirror_mode": {
    "name": "ipython",
    "version": 3
   },
   "file_extension": ".py",
   "mimetype": "text/x-python",
   "name": "python",
   "nbconvert_exporter": "python",
   "pygments_lexer": "ipython3",
   "version": "3.13.1"
  }
 },
 "nbformat": 4,
 "nbformat_minor": 2
}
