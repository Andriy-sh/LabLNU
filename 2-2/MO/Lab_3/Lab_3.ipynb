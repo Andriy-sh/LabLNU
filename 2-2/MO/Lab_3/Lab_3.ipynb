{
 "cells": [
  {
   "cell_type": "code",
   "execution_count": 424,
   "metadata": {},
   "outputs": [],
   "source": [
    "import numpy as np\n",
    "import pandas as pd\n",
    "import math"
   ]
  },
  {
   "cell_type": "code",
   "execution_count": 425,
   "metadata": {},
   "outputs": [],
   "source": [
    "def F(x):\n",
    "    return (1 / 8) * np.cos(x - 8)"
   ]
  },
  {
   "cell_type": "code",
   "execution_count": 426,
   "metadata": {},
   "outputs": [],
   "source": [
    "x0, xn, n = -8, 8, 20  \n",
    "h = (xn - x0) / n\n",
    "x_values = np.linspace(x0, xn, n+1)\n",
    "y_values = F(x_values)\n",
    "\n",
    "data = pd.DataFrame({'x': x_values, 'F(x)': y_values})\n",
    "\n",
    "with open(\"tabulation.txt\", \"w\") as file:\n",
    "    file.write(data.to_string(index=False))"
   ]
  },
  {
   "cell_type": "code",
   "execution_count": 427,
   "metadata": {},
   "outputs": [
    {
     "name": "stdout",
     "output_type": "stream",
     "text": [
      "1\n"
     ]
    }
   ],
   "source": [
    "def factorial(k):\n",
    "    if k < 0:\n",
    "        print(\"Число повинно бути не менше 0!\")\n",
    "        return  \n",
    "    result = 1\n",
    "    for i in range(2, k + 1):\n",
    "        result *= i\n",
    "    return result\n",
    "\n",
    "print(factorial(1))  \n"
   ]
  },
  {
   "cell_type": "code",
   "execution_count": 428,
   "metadata": {},
   "outputs": [
    {
     "name": "stdout",
     "output_type": "stream",
     "text": [
      "10\n"
     ]
    }
   ],
   "source": [
    "def combination(n, k):\n",
    "    return factorial(n) // (factorial(k) * factorial(n - k))\n",
    "print(combination(5,3))"
   ]
  },
  {
   "cell_type": "code",
   "execution_count": 429,
   "metadata": {},
   "outputs": [
    {
     "name": "stdout",
     "output_type": "stream",
     "text": [
      "1\n"
     ]
    }
   ],
   "source": [
    "def permutations(n, k):\n",
    "    if k > n:\n",
    "        return 0\n",
    "    return factorial(n) // (factorial(k) * factorial(n - k))\n",
    "print(permutations(3,3))"
   ]
  },
  {
   "cell_type": "code",
   "execution_count": 430,
   "metadata": {},
   "outputs": [],
   "source": [
    "def step(n):\n",
    "    return -1 if n % 2 else 1"
   ]
  },
  {
   "cell_type": "code",
   "execution_count": 431,
   "metadata": {},
   "outputs": [],
   "source": [
    "def finite_d(k, y_values):\n",
    "    suma = 0\n",
    "    for j in range(k + 1):\n",
    "        suma += y_values[j] * step(k - j) * combination(k, j)\n",
    "    return suma"
   ]
  },
  {
   "cell_type": "code",
   "execution_count": 432,
   "metadata": {},
   "outputs": [],
   "source": [
    "def factorial_p(t, k):\n",
    "    mn = 1\n",
    "    for i in range(k):\n",
    "        mn *= (t - i)\n",
    "    return mn"
   ]
  },
  {
   "cell_type": "code",
   "execution_count": 433,
   "metadata": {},
   "outputs": [],
   "source": [
    "def approximate_f(n, t, y_values):\n",
    "    suma = 0\n",
    "    for k in range(n + 1):\n",
    "        suma += finite_d(k, y_values) * factorial_p(t, k) / factorial(k)\n",
    "    return suma\n"
   ]
  },
  {
   "cell_type": "code",
   "execution_count": 434,
   "metadata": {},
   "outputs": [
    {
     "name": "stdout",
     "output_type": "stream",
     "text": [
      "Approximate value at t = 3 with n = 20: -0.10921712287638502\n"
     ]
    }
   ],
   "source": [
    "approx_value = approximate_f(n, 1, y_values)\n",
    "print(f\"Approximate value at t = {t} with n = {n}: {approx_value}\")"
   ]
  }
 ],
 "metadata": {
  "kernelspec": {
   "display_name": "Python 3",
   "language": "python",
   "name": "python3"
  },
  "language_info": {
   "codemirror_mode": {
    "name": "ipython",
    "version": 3
   },
   "file_extension": ".py",
   "mimetype": "text/x-python",
   "name": "python",
   "nbconvert_exporter": "python",
   "pygments_lexer": "ipython3",
   "version": "3.13.1"
  }
 },
 "nbformat": 4,
 "nbformat_minor": 2
}
