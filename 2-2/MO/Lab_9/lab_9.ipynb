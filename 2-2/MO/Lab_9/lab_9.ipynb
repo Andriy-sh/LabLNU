{
 "cells": [
  {
   "cell_type": "code",
   "execution_count": 1,
   "id": "d8af9166cd8939da",
   "metadata": {
    "ExecuteTime": {
     "end_time": "2025-04-14T11:19:06.220727Z",
     "start_time": "2025-04-14T11:19:06.213846Z"
    }
   },
   "outputs": [],
   "source": [
    "import numpy as np\n",
    "\n",
    "p = 8\n",
    "a = p - 3.01\n",
    "b = p + 7.01\n",
    "h = 0.1\n",
    "\n",
    "\n",
    "def F(x):\n",
    "    return x ** 3 - p * x ** 2\n",
    "\n",
    "\n",
    "x_vals = np.arange(a, b + h, h)\n",
    "y_vals = [F(x) for x in x_vals]\n",
    "\n",
    "with open(\"tab.txt\", \"w\") as file:\n",
    "    for x, y in zip(x_vals, y_vals):\n",
    "        file.write(f\"{x:.2f} {y:.8f}\\n\")\n"
   ]
  },
  {
   "cell_type": "code",
   "execution_count": 2,
   "id": "6825e7ecab9f1383",
   "metadata": {
    "ExecuteTime": {
     "end_time": "2025-04-14T11:19:06.230858Z",
     "start_time": "2025-04-14T11:19:06.226770Z"
    }
   },
   "outputs": [
    {
     "name": "stdout",
     "output_type": "stream",
     "text": [
      "Інтервали з можливими коренями:\n",
      "[7.99, 8.09]\n"
     ]
    }
   ],
   "source": [
    "roots_intervals = []\n",
    "for i in range(len(x_vals) - 1):\n",
    "    if F(x_vals[i]) * F(x_vals[i + 1]) < 0:\n",
    "        roots_intervals.append((x_vals[i], x_vals[i + 1]))\n",
    "\n",
    "print(\"Інтервали з можливими коренями:\")\n",
    "for interval in roots_intervals:\n",
    "    print(f\"[{interval[0]:.2f}, {interval[1]:.2f}]\")\n",
    "\n"
   ]
  },
  {
   "cell_type": "code",
   "execution_count": 3,
   "id": "70290bd213240293",
   "metadata": {
    "ExecuteTime": {
     "end_time": "2025-04-14T11:19:06.246799Z",
     "start_time": "2025-04-14T11:19:06.244249Z"
    }
   },
   "outputs": [],
   "source": [
    "def F_prime(x):\n",
    "    return 3 * x ** 2 - 2 * p * x\n",
    "\n",
    "\n",
    "def F_double_prime(x):\n",
    "    return 6 * x - 2 * p\n",
    "\n",
    "\n",
    "eps = 1e-10\n",
    "\n",
    "\n"
   ]
  },
  {
   "cell_type": "code",
   "execution_count": 4,
   "id": "9dbb9b6b875b147f",
   "metadata": {
    "ExecuteTime": {
     "end_time": "2025-04-14T11:19:06.271434Z",
     "start_time": "2025-04-14T11:19:06.267670Z"
    }
   },
   "outputs": [
    {
     "name": "stdout",
     "output_type": "stream",
     "text": [
      "\n",
      "Корінь на інтервалі [7.990000, 8.090000]:\n",
      "Проста ітерація:       x ≈ -0.0012202068, ітерацій: 1000\n"
     ]
    }
   ],
   "source": [
    "def simple_iteration(x0, tol=1e-10, max_iter=1000):\n",
    "    tau = 0.1\n",
    "    x = x0\n",
    "    for k in range(max_iter):\n",
    "        x_new = x - tau * F(x)\n",
    "        if abs(x_new - x) < tol:\n",
    "            return x_new, k + 1\n",
    "        x = x_new\n",
    "    return x, max_iter\n",
    "\n",
    "\n",
    "x0, x1 = 7.99, 8.09\n",
    "x_start = (x0 + x1) / 2\n",
    "\n",
    "root, iters = simple_iteration(x_start)\n",
    "\n",
    "print(f\"\\nКорінь на інтервалі [{x0:.6f}, {x1:.6f}]:\")\n",
    "print(f\"Проста ітерація:       x ≈ {root:.10f}, ітерацій: {iters}\")\n",
    "\n",
    "\n"
   ]
  },
  {
   "cell_type": "code",
   "execution_count": 5,
   "id": "13f3bf8aeaf87bfe",
   "metadata": {
    "ExecuteTime": {
     "end_time": "2025-04-14T11:19:06.287384Z",
     "start_time": "2025-04-14T11:19:06.283405Z"
    }
   },
   "outputs": [
    {
     "name": "stdout",
     "output_type": "stream",
     "text": [
      "Метод Ньютона:         x ≈ 8.0000000000, ітерацій: 4\n"
     ]
    }
   ],
   "source": [
    "def newton_method(x0, tol=eps, max_iter=1000):\n",
    "    for i in range(max_iter):\n",
    "        f, fp = F(x0), F_prime(x0)\n",
    "        if fp == 0:\n",
    "            break\n",
    "        x1 = x0 - f / fp\n",
    "        if abs(x1 - x0) < tol and abs(F(x1)) < tol:\n",
    "            return x1, i + 1\n",
    "        x0 = x1\n",
    "    return x0, max_iter\n",
    "\n",
    "\n",
    "root_newton, iters_newton = newton_method(x_start)\n",
    "print(f\"Метод Ньютона:         x ≈ {root_newton:.10f}, ітерацій: {iters_newton}\")\n",
    "\n",
    "\n"
   ]
  },
  {
   "cell_type": "code",
   "execution_count": 6,
   "id": "initial_id",
   "metadata": {
    "ExecuteTime": {
     "end_time": "2025-04-14T11:19:06.317282Z",
     "start_time": "2025-04-14T11:19:06.312140Z"
    },
    "collapsed": true
   },
   "outputs": [
    {
     "name": "stdout",
     "output_type": "stream",
     "text": [
      "Метод Чебишева:        x ≈ 8.0000000000, ітерацій: 3\n"
     ]
    }
   ],
   "source": [
    "def chebyshev_method(x0, tol=eps, max_iter=1000):\n",
    "    for i in range(max_iter):\n",
    "        f, fp, fpp = F(x0), F_prime(x0), F_double_prime(x0)\n",
    "        if fp == 0:\n",
    "            break\n",
    "        dx = f / fp\n",
    "        x1 = x0 - dx - (fpp / (2 * fp)) * dx ** 2\n",
    "        if abs(x1 - x0) < tol and abs(F(x1)) < tol:\n",
    "            return x1, i + 1\n",
    "        x0 = x1\n",
    "    return x0, max_iter\n",
    "\n",
    "\n",
    "root_cheb, iters_cheb = chebyshev_method(x_start)\n",
    "print(f\"Метод Чебишева:        x ≈ {root_cheb:.10f}, ітерацій: {iters_cheb}\")"
   ]
  },
  {
   "cell_type": "code",
   "execution_count": 7,
   "id": "a5da53618be7436b",
   "metadata": {
    "ExecuteTime": {
     "end_time": "2025-04-14T11:19:06.329622Z",
     "start_time": "2025-04-14T11:19:06.326318Z"
    }
   },
   "outputs": [
    {
     "name": "stdout",
     "output_type": "stream",
     "text": [
      "Метод хорд:            x ≈ 8.0000000000, ітерацій: 5\n"
     ]
    }
   ],
   "source": [
    "def hord_method(x0, x1, tol=eps, max_iter=1000):\n",
    "    for i in range(max_iter):\n",
    "        f0, f1 = F(x0), F(x1)\n",
    "        if f1 - f0 == 0:\n",
    "            break\n",
    "        x2 = x1 - f1 * (x1 - x0) / (f1 - f0)\n",
    "        if abs(x2 - x1) < tol and abs(F(x2)) < tol:\n",
    "            return x2, i + 1\n",
    "        x0, x1 = x1, x2\n",
    "    return x1, max_iter\n",
    "\n",
    "\n",
    "root, iters = hord_method(x0, x1, tol=eps)\n",
    "print(f\"Метод хорд:            x ≈ {root:.10f}, ітерацій: {iters}\")"
   ]
  },
  {
   "cell_type": "code",
   "execution_count": 8,
   "id": "f5eb8cf498574081",
   "metadata": {
    "ExecuteTime": {
     "end_time": "2025-04-14T11:19:06.353757Z",
     "start_time": "2025-04-14T11:19:06.348761Z"
    }
   },
   "outputs": [
    {
     "name": "stdout",
     "output_type": "stream",
     "text": [
      "Метод парабол:         x ≈ 5.3333333897, ітерацій: 9\n"
     ]
    }
   ],
   "source": [
    "def parabola_method(x0, x1, x2, tol=eps, max_iter=1000):\n",
    "    for k in range(max_iter):\n",
    "        f0, f1, f2 = F(x0), F(x1), F(x2)\n",
    "        denom = (x0 - x1) * (x0 - x2) * (x1 - x2)\n",
    "        if abs(denom) < 1e-12:\n",
    "            return x2, k + 1\n",
    "        A = (x2 * (f1 - f0) + x1 * (f0 - f2) + x0 * (f2 - f1)) / denom\n",
    "        B = (x2 ** 2 * (f0 - f1) + x1 ** 2 * (f2 - f0) + x0 ** 2 * (f1 - f2)) / denom\n",
    "        if A == 0:\n",
    "            return x2, k + 1\n",
    "        x3 = -B / (2 * A)\n",
    "        if abs(x3 - x2) < tol and abs(F(x3)) < tol:\n",
    "            return x3, k + 1\n",
    "        x0, x1, x2 = x1, x2, x3\n",
    "    return x2, max_iter\n",
    "\n",
    "\n",
    "root, iters = parabola_method(x0, x_start, x1, tol=eps)\n",
    "print(f\"Метод парабол:         x ≈ {root:.10f}, ітерацій: {iters}\")"
   ]
  },
  {
   "cell_type": "code",
   "execution_count": 9,
   "id": "6deffeeb16bf1dd1",
   "metadata": {
    "ExecuteTime": {
     "end_time": "2025-04-14T11:19:06.462192Z",
     "start_time": "2025-04-14T11:19:06.458122Z"
    }
   },
   "outputs": [
    {
     "name": "stdout",
     "output_type": "stream",
     "text": [
      "Зворотна інтерполяція: x ≈ 8.0000000000, ітерацій: 5\n"
     ]
    }
   ],
   "source": [
    "\n",
    "def inverse_interpolation(x0, x1, tol=eps, max_iter=1000):\n",
    "    for i in range(max_iter):\n",
    "        f0, f1 = F(x0), F(x1)\n",
    "        if f1 - f0 == 0:\n",
    "            break\n",
    "        x2 = x0 - f0 * (x1 - x0) / (f1 - f0)\n",
    "        if abs(x2 - x1) < tol and abs(F(x2)) < tol:\n",
    "            return x2, i + 1\n",
    "        x0, x1 = x1, x2\n",
    "    return x1, max_iter\n",
    "\n",
    "\n",
    "root, iters = inverse_interpolation(x0, x1, tol=eps)\n",
    "print(f\"Зворотна інтерполяція: x ≈ {root:.10f}, ітерацій: {iters}\")"
   ]
  },
  {
   "cell_type": "code",
   "execution_count": 10,
   "id": "3340185a",
   "metadata": {},
   "outputs": [
    {
     "data": {
      "image/png": "[encoded data removed]",
      "text/plain": [
       "<Figure size 640x480 with 1 Axes>"
      ]
     },
     "metadata": {},
     "output_type": "display_data"
    }
   ],
   "source": [
    "import matplotlib.pyplot as plt\n",
    "\n",
    "def f_poly(x):\n",
    "    return x**3 + p * x**2 + p**2 * x + p**3\n",
    "\n",
    "x_vals = np.linspace(-15, 5, 500)\n",
    "y_vals = [f_poly(x) for x in x_vals]\n",
    "\n",
    "plt.plot(x_vals, y_vals, label=\"f(x)\")\n",
    "plt.axhline(0, color='black', linestyle='--')\n",
    "plt.title(\"Графік алгебраїчного рівняння 3-го порядку\")\n",
    "plt.xlabel(\"x\")\n",
    "plt.ylabel(\"f(x)\")\n",
    "plt.grid(True)\n",
    "plt.legend()\n",
    "plt.show()\n"
   ]
  },
  {
   "cell_type": "code",
   "execution_count": 11,
   "id": "385a2905",
   "metadata": {},
   "outputs": [],
   "source": [
    "coeffs = [1, p, p**2, p**3]\n",
    "np.savetxt(\"poly_coeffs.txt\", coeffs, fmt=\"%.5f\")\n"
   ]
  },
  {
   "cell_type": "code",
   "execution_count": 12,
   "id": "08cb6336",
   "metadata": {},
   "outputs": [],
   "source": [
    "def read_coeffs(filepath):\n",
    "    return np.loadtxt(filepath)\n",
    "\n",
    "def eval_poly(coeffs, x):\n",
    "    result = 0\n",
    "    for i, a in enumerate(reversed(coeffs)):\n",
    "        result += a * x**i\n",
    "    return result\n"
   ]
  },
  {
   "cell_type": "code",
   "execution_count": 13,
   "id": "e188e3b3",
   "metadata": {},
   "outputs": [
    {
     "name": "stdout",
     "output_type": "stream",
     "text": [
      "[Горнер] Дійсний корінь ≈ -8.0000000000, ітерацій: 1\n"
     ]
    }
   ],
   "source": [
    "def newton_gorner(coeffs, x0, eps=1e-14, max_iter=1000):\n",
    "    n = len(coeffs)\n",
    "    for k in range(max_iter):\n",
    "        b = [coeffs[0]]\n",
    "        for i in range(1, n):\n",
    "            b.append(coeffs[i] + x0 * b[-1])\n",
    "        f_val = b[-1]\n",
    "        c = [b[0]]\n",
    "        for i in range(1, n-1):\n",
    "            c.append(b[i] + x0 * c[-1])\n",
    "        f_prime = c[-1]\n",
    "        if abs(f_prime) < 1e-12:\n",
    "            break\n",
    "        x1 = x0 - f_val / f_prime\n",
    "        if abs(x1 - x0) < eps:\n",
    "            return x1, k + 1\n",
    "        x0 = x1\n",
    "    return x0, max_iter\n",
    "\n",
    "coeffs = read_coeffs(\"poly_coeffs.txt\")\n",
    "real_root, iter_newton = newton_gorner(coeffs, -p)\n",
    "print(f\"[Горнер] Дійсний корінь ≈ {real_root:.10f}, ітерацій: {iter_newton}\")\n"
   ]
  },
  {
   "cell_type": "code",
   "execution_count": 14,
   "id": "16ea6c01",
   "metadata": {},
   "outputs": [],
   "source": [
    "def lin_method_fixed(coeffs, p0, q0, eps=1e-14, max_iter=1000):\n",
    "    p, q = p0, q0\n",
    "    n = len(coeffs)\n",
    "    for _ in range(max_iter):\n",
    "        b = [0] * n\n",
    "        c = [0] * n\n",
    "        b[0] = coeffs[0]\n",
    "        b[1] = coeffs[1] + p * b[0]\n",
    "        for i in range(2, n):\n",
    "            b[i] = coeffs[i] + p * b[i - 1] + q * b[i - 2]\n",
    "        c[0] = b[0]\n",
    "        c[1] = b[1] + p * c[0]\n",
    "        for i in range(2, n - 1):\n",
    "            c[i] = b[i] + p * c[i - 1] + q * c[i - 2]\n",
    "\n",
    "        # система для уточнення p і q\n",
    "        det = c[n - 3] * c[n - 3] - c[n - 4] * c[n - 2]\n",
    "        if abs(det) < 1e-14:\n",
    "            break\n",
    "        dp = (-b[n - 2] * c[n - 3] + b[n - 1] * c[n - 4]) / det\n",
    "        dq = (-b[n - 1] * c[n - 3] + b[n - 2] * c[n - 2]) / det\n",
    "        p += dp\n",
    "        q += dq\n",
    "        if abs(dp) < eps and abs(dq) < eps:\n",
    "            break\n",
    "    return p, q\n"
   ]
  },
  {
   "cell_type": "code",
   "execution_count": 15,
   "id": "16c0ea0e",
   "metadata": {},
   "outputs": [
    {
     "name": "stdout",
     "output_type": "stream",
     "text": [
      "[Лін] Два дійсних корені: 8.0000000000, -8.0000000000\n"
     ]
    }
   ],
   "source": [
    "# Початкові значення для p і q (не плутати з параметром p=8!)\n",
    "p_quad, q_quad = lin_method_fixed(coeffs, p0=0.0, q0=10.0)\n",
    "\n",
    "# Обчислюємо корені квадратного множника x² + p x + q\n",
    "D = p_quad**2 - 4 * q_quad\n",
    "if D >= 0:\n",
    "    r1 = (-p_quad + np.sqrt(D)) / 2\n",
    "    r2 = (-p_quad - np.sqrt(D)) / 2\n",
    "    print(f\"[Лін] Два дійсних корені: {r1:.10f}, {r2:.10f}\")\n",
    "else:\n",
    "    real = -p_quad / 2\n",
    "    imag = np.sqrt(-D) / 2\n",
    "    print(f\"[Лін] Комплексні корені: {real:.10f} ± {imag:.10f}i\")\n"
   ]
  }
 ],
 "metadata": {
  "kernelspec": {
   "display_name": "Python 3",
   "language": "python",
   "name": "python3"
  },
  "language_info": {
   "codemirror_mode": {
    "name": "ipython",
    "version": 3
   },
   "file_extension": ".py",
   "mimetype": "text/x-python",
   "name": "python",
   "nbconvert_exporter": "python",
   "pygments_lexer": "ipython3",
   "version": "3.13.1"
  }
 },
 "nbformat": 4,
 "nbformat_minor": 5
}
