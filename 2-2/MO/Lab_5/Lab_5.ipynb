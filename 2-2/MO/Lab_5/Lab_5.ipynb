{
 "cells": [
  {
   "cell_type": "code",
   "execution_count": 33,
   "id": "f8184064",
   "metadata": {},
   "outputs": [
    {
     "name": "stdout",
     "output_type": "stream",
     "text": [
      "Пункт 1: Точне значення похідної в точці x0 = 0.5 дорівнює 7.503999814197911\n"
     ]
    }
   ],
   "source": [
    "import numpy as np\n",
    "\n",
    "# Задані параметри\n",
    "p = 8\n",
    "x0 = 0.5\n",
    "\n",
    "# Аналітична похідна\n",
    "def y_exact_derivative(x):\n",
    "    return -p * np.sin(x - p)\n",
    "\n",
    "y0_prime = y_exact_derivative(x0)\n",
    "print(\"Пункт 1: Точне значення похідної в точці x0 =\", x0, \"дорівнює\", y0_prime)\n"
   ]
  },
  {
   "cell_type": "code",
   "execution_count": 34,
   "id": "e81653ff",
   "metadata": {},
   "outputs": [
    {
     "name": "stdout",
     "output_type": "stream",
     "text": [
      "h = 1e-02, апроксимація = 7.5038747482, похибка = 1.25e-04\n",
      "h = 1e-03, апроксимація = 7.5039985635, похибка = 1.25e-06\n",
      "h = 1e-04, апроксимація = 7.5039998017, похибка = 1.25e-08\n",
      "h = 1e-05, апроксимація = 7.5039998138, похибка = 4.24e-10\n",
      "h = 1e-06, апроксимація = 7.5039998151, похибка = 8.86e-10\n",
      "h = 1e-07, апроксимація = 7.5039998371, похибка = 2.29e-08\n",
      "h = 1e-08, апроксимація = 7.5039997549, похибка = 5.93e-08\n",
      "h = 1e-09, апроксимація = 7.5040005321, похибка = 7.18e-07\n",
      "h = 1e-10, апроксимація = 7.5039996439, похибка = 1.70e-07\n",
      "\n",
      "Оптимальне значення h = 1e-05 з похибкою 4.24e-10\n"
     ]
    }
   ],
   "source": [
    "def f(x):\n",
    "    return p * np.cos(x - p)\n",
    "\n",
    "hs = [10**(-i) for i in range(2, 11)]\n",
    "errors = []\n",
    "approximations = []\n",
    "\n",
    "for h in hs:\n",
    "    y_h = (f(x0 + h) - f(x0 - h)) / (2 * h)\n",
    "    approximations.append(y_h)\n",
    "    errors.append(abs(y_h - y0_prime))\n",
    "\n",
    "for i, h in enumerate(hs):\n",
    "    print(f\"h = {h:.0e}, апроксимація = {approximations[i]:.10f}, похибка = {errors[i]:.2e}\")\n",
    "\n",
    "# Знаходження h з найменшою похибкою\n",
    "optimal_index = np.argmin(errors)\n",
    "h_opt = hs[optimal_index]\n",
    "print(f\"\\nОптимальне значення h = {h_opt:.0e} з похибкою {errors[optimal_index]:.2e}\")\n"
   ]
  },
  {
   "cell_type": "code",
   "execution_count": 35,
   "id": "cc877411",
   "metadata": {},
   "outputs": [
    {
     "name": "stdout",
     "output_type": "stream",
     "text": [
      "Пункт 3: Прийнято h = 1e-05\n"
     ]
    }
   ],
   "source": [
    "h = 1e-5  # Прийняте значення кроку\n",
    "print(\"Пункт 3: Прийнято h =\", h)\n"
   ]
  },
  {
   "cell_type": "code",
   "execution_count": 36,
   "id": "fd8f6684",
   "metadata": {},
   "outputs": [
    {
     "name": "stdout",
     "output_type": "stream",
     "text": [
      "\n",
      "Апроксимація при h = 7.5039998138\n",
      "Апроксимація при 2h = 7.5039998137\n"
     ]
    }
   ],
   "source": [
    "y_h = (f(x0 + h) - f(x0 - h)) / (2 * h)\n",
    "y_2h = (f(x0 + 2*h) - f(x0 - 2*h)) / (4 * h)\n",
    "\n",
    "print(f\"\\nАпроксимація при h = {y_h:.10f}\\nАпроксимація при 2h = {y_2h:.10f}\")\n"
   ]
  },
  {
   "cell_type": "code",
   "execution_count": 37,
   "id": "f294bae7",
   "metadata": {},
   "outputs": [
    {
     "name": "stdout",
     "output_type": "stream",
     "text": [
      "Похибка при h = 1e-05 дорівнює 4.241025308715507e-10\n"
     ]
    }
   ],
   "source": [
    "R1 = abs(y_h - y0_prime)\n",
    "print(\"Похибка при h =\", h, \"дорівнює\", R1)\n"
   ]
  },
  {
   "cell_type": "code",
   "execution_count": 38,
   "id": "fae83d34",
   "metadata": {},
   "outputs": [
    {
     "name": "stdout",
     "output_type": "stream",
     "text": [
      "Значення за Рунге-Ромбергом = 7.5039998138\n",
      "Похибка методу Рунге-Ромберга = 4.13e-10\n"
     ]
    }
   ],
   "source": [
    "y_RR = y_h + (y_h - y_2h) / 3\n",
    "RR_error = abs(y_RR - y0_prime)\n",
    "\n",
    "print(f\"Значення за Рунге-Ромбергом = {y_RR:.10f}\")\n",
    "print(f\"Похибка методу Рунге-Ромберга = {RR_error:.2e}\")\n"
   ]
  },
  {
   "cell_type": "code",
   "execution_count": null,
   "id": "520a17e3",
   "metadata": {},
   "outputs": [
    {
     "name": "stdout",
     "output_type": "stream",
     "text": [
      "Апроксимація при 2h = 7.5039998137\n",
      "Апроксимація при 4h = 7.5039998122\n",
      "Метод Ейткена: y_E = 7.5040049278\n",
      "Порядок точності p = 5.4865\n",
      "Похибка R3 = 5.11e-06\n"
     ]
    }
   ],
   "source": [
    "y_2h = (f(x0 + 2*h) - f(x0 - 2*h)) / (4 * h)\n",
    "y_4h = (f(x0 + 4*h) - f(x0 - 4*h)) / (8 * h)\n",
    "\n",
    "# Метод Ейткена (уточнення похідної)\n",
    "numerator = (y_2h - y_4h) * h\n",
    "denominator = 2 * y_h - 4 * y_2h + 2 * y_4h\n",
    "y_E = y_2h - numerator / denominator\n",
    "\n",
    "p = np.log(abs((y_4h - y_2h) / (y_2h - y_h))) / np.log(2)\n",
    "\n",
    "R3 = abs(y_E - y0_prime)\n",
    "print(f\"Апроксимація при 2h = {y_2h:.10f}\")\n",
    "print(f\"Апроксимація при 4h = {y_4h:.10f}\")\n",
    "print(f\"Метод Ейткена: y_E = {y_E:.10f}\")\n",
    "print(f\"Порядок точності p = {p:.4f}\")\n",
    "print(f\"Похибка R3 = {R3:.2e}\")\n"
   ]
  }
 ],
 "metadata": {
  "kernelspec": {
   "display_name": "Python 3",
   "language": "python",
   "name": "python3"
  },
  "language_info": {
   "codemirror_mode": {
    "name": "ipython",
    "version": 3
   },
   "file_extension": ".py",
   "mimetype": "text/x-python",
   "name": "python",
   "nbconvert_exporter": "python",
   "pygments_lexer": "ipython3",
   "version": "3.13.1"
  }
 },
 "nbformat": 4,
 "nbformat_minor": 5
}
