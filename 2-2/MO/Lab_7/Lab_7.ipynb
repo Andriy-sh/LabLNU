{
 "cells": [
  {
   "cell_type": "code",
   "execution_count": 28,
   "id": "initial_id",
   "metadata": {
    "ExecuteTime": {
     "end_time": "2025-03-31T11:29:16.191716Z",
     "start_time": "2025-03-31T11:29:16.183911Z"
    },
    "collapsed": true
   },
   "outputs": [
    {
     "name": "stdout",
     "output_type": "stream",
     "text": [
      "[136 112 120 128 144]\n",
      "[8 8 8 8 8]\n",
      "[[3 4 3 4 3]\n",
      " [2 3 2 3 4]\n",
      " [2 3 3 4 3]\n",
      " [4 2 4 3 3]\n",
      " [3 4 4 3 4]]\n"
     ]
    }
   ],
   "source": [
    "import numpy as np\n",
    "\n",
    "n = 5\n",
    "p = 8\n",
    "\n",
    "A = np.random.randint(2, 5, (n, n))\n",
    "\n",
    "\n",
    "X = np.full(n, p)\n",
    "\n",
    "B = A @ X\n",
    "\n",
    "print(B)\n",
    "print(X)\n",
    "print(A)\n",
    "np.save(\"matrix_A.npy\", A)\n",
    "np.save(\"vector_B.npy\", B)\n"
   ]
  },
  {
   "cell_type": "code",
   "execution_count": 29,
   "id": "9827101c7cb30ccf",
   "metadata": {
    "ExecuteTime": {
     "end_time": "2025-03-31T11:29:16.237380Z",
     "start_time": "2025-03-31T11:29:16.210166Z"
    }
   },
   "outputs": [
    {
     "name": "stdout",
     "output_type": "stream",
     "text": [
      "[8. 8. 8. 8. 8.]\n",
      "Matrix L:\n",
      "[[ 3.          0.          0.          0.          0.        ]\n",
      " [ 2.          0.33333333  0.          0.          0.        ]\n",
      " [ 2.          0.33333333  1.          0.          0.        ]\n",
      " [ 4.         -3.33333333  0.          1.          0.        ]\n",
      " [ 3.          0.          1.         -2.         40.        ]]\n",
      "\n",
      "Matrix U:\n",
      "[[ 1.          1.33333333  1.          1.33333333  1.        ]\n",
      " [ 0.          1.          0.          1.          6.        ]\n",
      " [ 0.          0.          1.          1.         -1.        ]\n",
      " [ 0.          0.          0.          1.         19.        ]\n",
      " [ 0.          0.          0.          0.          1.        ]]\n"
     ]
    }
   ],
   "source": [
    "def LU_find(L, U, A, n):\n",
    "    for k in range(n):\n",
    "        for i in range(k, n):\n",
    "            sum_ = sum(L[i][j] * U[j][k] for j in range(k))\n",
    "            L[i][k] = A[i][k] - sum_\n",
    "\n",
    "        for i in range(k + 1, n):\n",
    "            sum_ = sum(L[k][j] * U[j][i] for j in range(k))\n",
    "            U[k][i] = (A[k][i] - sum_) / L[k][k]\n",
    "\n",
    "\n",
    "def LU_solve(L, U, B, n):\n",
    "    Z = np.zeros(n)\n",
    "    X = np.zeros(n)\n",
    "\n",
    "    for k in range(n):\n",
    "        Z[k] = (B[k] - sum(L[k][j] * Z[j] for j in range(k))) / L[k][k]\n",
    "\n",
    "    for k in range(n - 1, -1, -1):\n",
    "        X[k] = Z[k] - sum(U[k][j] * X[j] for j in range(k + 1, n))\n",
    "\n",
    "    return X\n",
    "\n",
    "\n",
    "A = np.load(\"matrix_A.npy\")\n",
    "B = np.load(\"vector_B.npy\")\n",
    "\n",
    "L = np.zeros((n, n))\n",
    "U = np.identity(n)\n",
    "np.fill_diagonal(L, 1)\n",
    "\n",
    "LU_find(L, U, A, n)\n",
    "\n",
    "X_computed = LU_solve(L, U, B, n)\n",
    "print(X_computed)\n",
    "print(\"Matrix L:\")\n",
    "print(L)\n",
    "print(\"\\nMatrix U:\")\n",
    "print(U)"
   ]
  },
  {
   "cell_type": "code",
   "execution_count": 30,
   "id": "64073d5005b8fe9f",
   "metadata": {
    "ExecuteTime": {
     "end_time": "2025-03-31T11:29:16.321431Z",
     "start_time": "2025-03-31T11:29:16.317659Z"
    }
   },
   "outputs": [
    {
     "name": "stdout",
     "output_type": "stream",
     "text": [
      "eps = 2.842171e-14\n"
     ]
    }
   ],
   "source": [
    "B_recomputed = A @ X_computed\n",
    "eps = np.max(np.abs(B_recomputed - B))\n",
    "print(f\"eps = {eps:.6e}\")"
   ]
  },
  {
   "cell_type": "code",
   "execution_count": 31,
   "id": "e7915ab0",
   "metadata": {},
   "outputs": [
    {
     "name": "stdout",
     "output_type": "stream",
     "text": [
      "\n",
      "--- Ітераційне уточнення ---\n",
      "Уточнений розв'язок:\n",
      "[8. 8. 8. 8. 8.]\n",
      "Кількість ітерацій: 2\n",
      "Макс. нев'язка після уточнення: 0.00e+00\n"
     ]
    }
   ],
   "source": [
    "# === Ітераційне уточнення ===\n",
    "eps_target = 1e-14\n",
    "X_cur = X_computed.copy()\n",
    "iteration = 0\n",
    "\n",
    "while True:\n",
    "    R = B - A @ X_cur  # Вектор нев'язки\n",
    "    if np.max(np.abs(R)) < eps_target:\n",
    "        break\n",
    "\n",
    "    # Розв'язуємо A * ΔX = R через LU\n",
    "    Z_corr = np.zeros(n)\n",
    "    DX = np.zeros(n)\n",
    "\n",
    "    # Прямий хід\n",
    "    for k in range(n):\n",
    "        Z_corr[k] = (R[k] - sum(L[k][j] * Z_corr[j] for j in range(k))) / L[k][k]\n",
    "\n",
    "    # Зворотний хід\n",
    "    for k in range(n - 1, -1, -1):\n",
    "        DX[k] = Z_corr[k] - sum(U[k][j] * DX[j] for j in range(k + 1, n))\n",
    "\n",
    "    # Уточнюємо X\n",
    "    X_cur += DX\n",
    "    iteration += 1\n",
    "\n",
    "# Вивід результатів\n",
    "print(\"\\n--- Ітераційне уточнення ---\")\n",
    "print(\"Уточнений розв'язок:\")\n",
    "print(X_cur)\n",
    "print(f\"Кількість ітерацій: {iteration}\")\n",
    "print(f\"Макс. нев'язка після уточнення: {np.max(np.abs(B - A @ X_cur)):.2e}\")\n"
   ]
  }
 ],
 "metadata": {
  "kernelspec": {
   "display_name": "Python 3",
   "language": "python",
   "name": "python3"
  },
  "language_info": {
   "codemirror_mode": {
    "name": "ipython",
    "version": 3
   },
   "file_extension": ".py",
   "mimetype": "text/x-python",
   "name": "python",
   "nbconvert_exporter": "python",
   "pygments_lexer": "ipython3",
   "version": "3.13.1"
  }
 },
 "nbformat": 4,
 "nbformat_minor": 5
}
